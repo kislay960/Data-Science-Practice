{
  "nbformat": 4,
  "nbformat_minor": 0,
  "metadata": {
    "colab": {
      "name": "Pokemon Classifier Neural Network.ipynb",
      "provenance": [],
      "mount_file_id": "1JpYKyn6rPuEg2qC06IeeoS5Q_lrdxm5J",
      "authorship_tag": "ABX9TyPP6okBHL1XPWAPno/cpc45",
      "include_colab_link": true
    },
    "kernelspec": {
      "name": "python3",
      "display_name": "Python 3"
    }
  },
  "cells": [
    {
      "cell_type": "markdown",
      "metadata": {
        "id": "view-in-github",
        "colab_type": "text"
      },
      "source": [
        "<a href=\"https://colab.research.google.com/github/kislay960/Data-Science-Practice/blob/main/Pokemon_Classifier_Neural_Network.ipynb\" target=\"_parent\"><img src=\"https://colab.research.google.com/assets/colab-badge.svg\" alt=\"Open In Colab\"/></a>"
      ]
    },
    {
      "cell_type": "code",
      "metadata": {
        "id": "3QboelFBXHpI"
      },
      "source": [
        "from pathlib import Path\n",
        "from keras.preprocessing import image\n",
        "import numpy as np\n",
        "import os"
      ],
      "execution_count": 1,
      "outputs": []
    },
    {
      "cell_type": "code",
      "metadata": {
        "id": "iE801tMbXQll"
      },
      "source": [
        "p = Path('/content/drive/My Drive/Images train pokemon')"
      ],
      "execution_count": 2,
      "outputs": []
    },
    {
      "cell_type": "code",
      "metadata": {
        "colab": {
          "base_uri": "https://localhost:8080/"
        },
        "id": "NJ5U86NbXS5p",
        "outputId": "793a89b6-6560-4668-94a0-1c9696ec1dff"
      },
      "source": [
        "images = []\n",
        "dirs = p.glob('*.jpg')\n",
        "labels_dict = {'Pikachu':0, 'Bulbasaur':1, 'Charmender':2}\n",
        "for d in dirs:\n",
        "    img = image.load_img(d,target_size=(40,40))\n",
        "    img_array = image.img_to_array(img,dtype='uint8')\n",
        "    img_array = img_array/255.0\n",
        "    images.append(img_array)"
      ],
      "execution_count": 3,
      "outputs": [
        {
          "output_type": "stream",
          "text": [
            "/usr/local/lib/python3.6/dist-packages/PIL/Image.py:932: UserWarning: Palette images with Transparency expressed in bytes should be converted to RGBA images\n",
            "  \"Palette images with Transparency expressed in bytes should be \"\n"
          ],
          "name": "stderr"
        }
      ]
    },
    {
      "cell_type": "code",
      "metadata": {
        "colab": {
          "base_uri": "https://localhost:8080/"
        },
        "id": "z70UIbJrXVHY",
        "outputId": "a7040bd8-e0d1-49a7-b98f-7047a05937d5"
      },
      "source": [
        "len(images)"
      ],
      "execution_count": 4,
      "outputs": [
        {
          "output_type": "execute_result",
          "data": {
            "text/plain": [
              "304"
            ]
          },
          "metadata": {
            "tags": []
          },
          "execution_count": 4
        }
      ]
    },
    {
      "cell_type": "code",
      "metadata": {
        "id": "gliiUdcvXxCp"
      },
      "source": [
        "import pandas as pd\n",
        "train_data = pd.read_csv('https://raw.githubusercontent.com/kislay960/Data-Science-Practice/main/train%20pokemon.csv')"
      ],
      "execution_count": 5,
      "outputs": []
    },
    {
      "cell_type": "code",
      "metadata": {
        "id": "0vTgvxvvX6In"
      },
      "source": [
        "train = train_data.values"
      ],
      "execution_count": 6,
      "outputs": []
    },
    {
      "cell_type": "code",
      "metadata": {
        "id": "kYvAzYpCX-Jb"
      },
      "source": [
        "labels = train[:,1]"
      ],
      "execution_count": 7,
      "outputs": []
    },
    {
      "cell_type": "code",
      "metadata": {
        "id": "2hSBt0YjYJ4c"
      },
      "source": [
        "labels[labels=='Bulbasaur'] = 0 \n",
        "labels[labels=='Pikachu'] = 1\n",
        "labels[labels=='Charmander'] = 2 "
      ],
      "execution_count": 8,
      "outputs": []
    },
    {
      "cell_type": "code",
      "metadata": {
        "id": "gfD9QdgZZS8H"
      },
      "source": [
        "X = np.array(images)\n",
        "Y = np.array(labels)\n",
        "\n",
        "from sklearn.utils import shuffle\n",
        "X,Y = shuffle(X,Y,random_state=2)"
      ],
      "execution_count": 9,
      "outputs": []
    },
    {
      "cell_type": "code",
      "metadata": {
        "colab": {
          "base_uri": "https://localhost:8080/",
          "height": 1000
        },
        "id": "1A46jrF5XYQP",
        "outputId": "496f4f01-ab3e-4f27-f315-b984e72abbd5"
      },
      "source": [
        "import matplotlib.pyplot as plt\n",
        "\n",
        "def drawImg(img):\n",
        "    plt.imshow(img)\n",
        "    plt.axis(\"off\")\n",
        "    plt.show()\n",
        "    return\n",
        "\n",
        "for i in range(50,60):\n",
        "    drawImg(X[i])"
      ],
      "execution_count": 10,
      "outputs": [
        {
          "output_type": "display_data",
          "data": {
            "image/png": "[encoded data removed]",
            "text/plain": [
              "<Figure size 432x288 with 1 Axes>"
            ]
          },
          "metadata": {
            "tags": [],
            "needs_background": "light"
          }
        },
        {
          "output_type": "display_data",
          "data": {
            "image/png": "[encoded data removed]",
            "text/plain": [
              "<Figure size 432x288 with 1 Axes>"
            ]
          },
          "metadata": {
            "tags": [],
            "needs_background": "light"
          }
        },
        {
          "output_type": "display_data",
          "data": {
            "image/png": "[encoded data removed]",
            "text/plain": [
              "<Figure size 432x288 with 1 Axes>"
            ]
          },
          "metadata": {
            "tags": [],
            "needs_background": "light"
          }
        },
        {
          "output_type": "display_data",
          "data": {
            "image/png": "[encoded data removed]",
            "text/plain": [
              "<Figure size 432x288 with 1 Axes>"
            ]
          },
          "metadata": {
            "tags": [],
            "needs_background": "light"
          }
        },
        {
          "output_type": "display_data",
          "data": {
            "image/png": "[encoded data removed]",
            "text/plain": [
              "<Figure size 432x288 with 1 Axes>"
            ]
          },
          "metadata": {
            "tags": [],
            "needs_background": "light"
          }
        },
        {
          "output_type": "display_data",
          "data": {
            "image/png": "[encoded data removed]",
            "text/plain": [
              "<Figure size 432x288 with 1 Axes>"
            ]
          },
          "metadata": {
            "tags": [],
            "needs_background": "light"
          }
        },
        {
          "output_type": "display_data",
          "data": {
            "image/png": "[encoded data removed]",
            "text/plain": [
              "<Figure size 432x288 with 1 Axes>"
            ]
          },
          "metadata": {
            "tags": [],
            "needs_background": "light"
          }
        },
        {
          "output_type": "display_data",
          "data": {
            "image/png": "[encoded data removed]",
            "text/plain": [
              "<Figure size 432x288 with 1 Axes>"
            ]
          },
          "metadata": {
            "tags": [],
            "needs_background": "light"
          }
        },
        {
          "output_type": "display_data",
          "data": {
            "image/png": "[encoded data removed]",
            "text/plain": [
              "<Figure size 432x288 with 1 Axes>"
            ]
          },
          "metadata": {
            "tags": [],
            "needs_background": "light"
          }
        },
        {
          "output_type": "display_data",
          "data": {
            "image/png": "[encoded data removed]",
            "text/plain": [
              "<Figure size 432x288 with 1 Axes>"
            ]
          },
          "metadata": {
            "tags": [],
            "needs_background": "light"
          }
        }
      ]
    },
    {
      "cell_type": "code",
      "metadata": {
        "colab": {
          "base_uri": "https://localhost:8080/"
        },
        "id": "O0cpNPsQbifg",
        "outputId": "20149514-3733-49a5-c912-ec8b89053938"
      },
      "source": [
        "X_ = np.array(X)\n",
        "Y_ = np.array(Y)\n",
        "\n",
        "print(X_.shape,Y_.shape)"
      ],
      "execution_count": 12,
      "outputs": [
        {
          "output_type": "stream",
          "text": [
            "(304, 40, 40, 3) (304,)\n"
          ],
          "name": "stdout"
        }
      ]
    },
    {
      "cell_type": "code",
      "metadata": {
        "id": "AzCRL6mrg2Mb"
      },
      "source": [
        "def softmax(a):\n",
        "    e_pa = np.exp(a)\n",
        "    ans = e_pa/np.sum(e_pa,axis=1,keepdims=True)\n",
        "    return ans"
      ],
      "execution_count": 11,
      "outputs": []
    },
    {
      "cell_type": "code",
      "metadata": {
        "id": "hmU1UZ6WN_NQ"
      },
      "source": [
        "class NeuralNetwork:\n",
        "\n",
        "    def __init__(self,input_size,layers,output_size):\n",
        "\n",
        "        np.random.seed(0)\n",
        "        model = dict()\n",
        "\n",
        "        #First Layer\n",
        "        model['W1'] = np.random.randn(input_size,layers[0])\n",
        "        model['b1'] = np.zeros((1,layers[0]))\n",
        "\n",
        "        #Second Layer\n",
        "        model['W2'] = np.random.randn(layers[0],layers[1])\n",
        "        model['b2'] = np.zeros((1,layers[1]))\n",
        "\n",
        "        #Third Layer\n",
        "        model['W3'] = np.random.randn(layers[1],output_size)\n",
        "        model['b3'] = np.zeros((1,output_size))\n",
        "\n",
        "        self.model = model\n",
        "        self.activation_outputs = None\n",
        "\n",
        "    def forward(self,x):\n",
        "\n",
        "        W1,W2,W3 = self.model['W1'],self.model['W2'],self.model['W3']\n",
        "        b1, b2, b3 = self.model['b1'],self.model['b2'],self.model['b3']\n",
        "\n",
        "        z1 = np.dot(x,W1) + b1\n",
        "        a1 = np.tanh(z1)\n",
        "\n",
        "        z2 = np.dot(a1,W2) + b2\n",
        "        a2 = np.tanh(z2)\n",
        "\n",
        "        z3 = np.dot(a2,W3) + b3\n",
        "        y_ = softmax(z3)\n",
        "\n",
        "        self.activation_outputs = (a1,a2,y_)\n",
        "        return y_\n",
        "\n",
        "    \n",
        "    def backward(self,x,y,learning_rate=0.01):\n",
        "\n",
        "        W1,W2,W3 = self.model['W1'],self.model['W2'],self.model['W3']\n",
        "        b1, b2, b3 = self.model['b1'],self.model['b2'],self.model['b3']\n",
        "        m = x.shape[0]\n",
        "\n",
        "        a1,a2,y_ = self.activation_outputs\n",
        "\n",
        "        delta3 = y_ - y\n",
        "        dw3 = np.dot(a2.T,delta3)\n",
        "        db3 = np.sum(delta3,axis=0)\n",
        "\n",
        "        # we assumed activation function as tanh(z).\n",
        "        # activation after 2nd layer a2 = tanh(z)\n",
        "        # derivative of tanh(z) is 1 - tanh^2(z) = 1-a2^2\n",
        "        delta2 = (1-np.square(a2))*np.dot(delta3,W3.T)\n",
        "        dw2 = np.dot(a1.T,delta2)\n",
        "        db2 = np.sum(delta2,axis=0)\n",
        "        \n",
        "        delta1 = (1-np.square(a1))*np.dot(delta2,W2.T)\n",
        "        dw1 = np.dot(X.T,delta1)\n",
        "        db1 = np.sum(delta1,axis=0)\n",
        "\n",
        "        #Update the Model Parameters using Gradient Descent\n",
        "        self.model[\"W1\"]  -= learning_rate*dw1\n",
        "        self.model['b1']  -= learning_rate*db1\n",
        "        \n",
        "        self.model[\"W2\"]  -= learning_rate*dw2\n",
        "        self.model['b2']  -= learning_rate*db2\n",
        "        \n",
        "        self.model[\"W3\"]  -= learning_rate*dw3\n",
        "        self.model['b3']  -= learning_rate*db3\n",
        "\n",
        "    def predict(self,x):\n",
        "        y_out = self.forward(x)\n",
        "        return np.argmax(y_out,axis=1)\n",
        "    \n",
        "    def summary(self):\n",
        "        W1,W2,W3 = self.model['W1'],self.model['W2'],self.model['W3']\n",
        "        a1,a2,y_ = self.activation_outputs\n",
        "        \n",
        "        print(\"W1 \",W1.shape)\n",
        "        print(\"A1 \",a1.shape)\n",
        "        \n",
        "        print(\"W2 \",W2.shape)\n",
        "        print(\"A2 \",a2.shape)\n",
        "        \n",
        "        print(\"W3 \",W3.shape)\n",
        "        print(\"Y_ \",y_.shape)"
      ],
      "execution_count": 12,
      "outputs": []
    },
    {
      "cell_type": "code",
      "metadata": {
        "id": "wpG_aOZSOj4V"
      },
      "source": [
        "def loss(y_oht,p):\n",
        "    l = -np.mean(y_oht*np.log(p))\n",
        "    return l"
      ],
      "execution_count": 13,
      "outputs": []
    },
    {
      "cell_type": "code",
      "metadata": {
        "id": "ygOVv8DkOnC0"
      },
      "source": [
        "def one_hot(y,depth):\n",
        "    m = y.shape[0]\n",
        "    y_oht = np.zeros((m,depth))\n",
        "    y_oht[np.arange(m),y] = 1\n",
        "    return y_oht"
      ],
      "execution_count": 14,
      "outputs": []
    },
    {
      "cell_type": "code",
      "metadata": {
        "colab": {
          "base_uri": "https://localhost:8080/"
        },
        "id": "R3jYzd17PUEq",
        "outputId": "02329236-3247-4cd2-e1eb-a53f466d07c6"
      },
      "source": [
        "X = X.reshape(X.shape[0],-1)\n",
        "print(X.shape)"
      ],
      "execution_count": 15,
      "outputs": [
        {
          "output_type": "stream",
          "text": [
            "(304, 4800)\n"
          ],
          "name": "stdout"
        }
      ]
    },
    {
      "cell_type": "code",
      "metadata": {
        "id": "lt2C2D4pOpLh"
      },
      "source": [
        "model = NeuralNetwork(input_size=4800,layers=[100,50],output_size=3)"
      ],
      "execution_count": 16,
      "outputs": []
    },
    {
      "cell_type": "code",
      "metadata": {
        "colab": {
          "base_uri": "https://localhost:8080/"
        },
        "id": "O4H_1k-cO2CK",
        "outputId": "d5f3bfba-4b4f-4796-8048-eb90f81a10ad"
      },
      "source": [
        "model.forward(X[0])"
      ],
      "execution_count": 17,
      "outputs": [
        {
          "output_type": "execute_result",
          "data": {
            "text/plain": [
              "array([[0.95821102, 0.0032815 , 0.03850749]])"
            ]
          },
          "metadata": {
            "tags": []
          },
          "execution_count": 17
        }
      ]
    },
    {
      "cell_type": "code",
      "metadata": {
        "id": "9pch3_X4O6pj"
      },
      "source": [
        "def train(X,Y,model,epochs,learning_rate,logs=True):\n",
        "    training_loss = []\n",
        "    \n",
        "    classes = 3\n",
        "    Y_OHT = one_hot(Y,classes)\n",
        "    \n",
        "    for ix in range(epochs):\n",
        "        \n",
        "        Y_ = model.forward(X)\n",
        "        l = loss(Y_OHT,Y_)\n",
        "        training_loss.append(l)\n",
        "        model.backward(X,Y_OHT,learning_rate)\n",
        "        \n",
        "        if(logs and ix%10==0):\n",
        "            print(\"Epoch %d Loss %.4f\"%(ix,l))\n",
        "            \n",
        "    return training_loss"
      ],
      "execution_count": 18,
      "outputs": []
    },
    {
      "cell_type": "code",
      "metadata": {
        "colab": {
          "base_uri": "https://localhost:8080/"
        },
        "id": "WzL7QoUteoDS",
        "outputId": "833d8ab5-4d26-4ce2-c1c2-d794c898830d"
      },
      "source": [
        "model.summary()"
      ],
      "execution_count": 19,
      "outputs": [
        {
          "output_type": "stream",
          "text": [
            "W1  (4800, 100)\n",
            "A1  (1, 100)\n",
            "W2  (100, 50)\n",
            "A2  (1, 50)\n",
            "W3  (50, 3)\n",
            "Y_  (1, 3)\n"
          ],
          "name": "stdout"
        }
      ]
    },
    {
      "cell_type": "code",
      "metadata": {
        "id": "RwjXnefgQAWP"
      },
      "source": [
        "Y = np.array(Y,dtype=int)"
      ],
      "execution_count": 20,
      "outputs": []
    },
    {
      "cell_type": "code",
      "metadata": {
        "colab": {
          "base_uri": "https://localhost:8080/"
        },
        "id": "omOHQEkyQblv",
        "outputId": "4632265f-6be0-46e3-beff-5f0d74a69042"
      },
      "source": [
        "Y.shape"
      ],
      "execution_count": 21,
      "outputs": [
        {
          "output_type": "execute_result",
          "data": {
            "text/plain": [
              "(304,)"
            ]
          },
          "metadata": {
            "tags": []
          },
          "execution_count": 21
        }
      ]
    },
    {
      "cell_type": "code",
      "metadata": {
        "colab": {
          "base_uri": "https://localhost:8080/"
        },
        "id": "7HByDhotPxhP",
        "outputId": "748963c2-cff8-41df-d7a6-e0d92960c317"
      },
      "source": [
        "l = train(X,Y,model,500,0.0002)"
      ],
      "execution_count": 22,
      "outputs": [
        {
          "output_type": "stream",
          "text": [
            "Epoch 0 Loss 2.6684\n",
            "Epoch 10 Loss 0.9570\n",
            "Epoch 20 Loss 0.5111\n",
            "Epoch 30 Loss 0.3750\n",
            "Epoch 40 Loss 0.2807\n",
            "Epoch 50 Loss 0.2140\n",
            "Epoch 60 Loss 0.1839\n",
            "Epoch 70 Loss 0.1637\n",
            "Epoch 80 Loss 0.1442\n",
            "Epoch 90 Loss 0.1289\n",
            "Epoch 100 Loss 0.1149\n",
            "Epoch 110 Loss 0.1033\n",
            "Epoch 120 Loss 0.0911\n",
            "Epoch 130 Loss 0.0842\n",
            "Epoch 140 Loss 0.0788\n",
            "Epoch 150 Loss 0.0741\n",
            "Epoch 160 Loss 0.0700\n",
            "Epoch 170 Loss 0.0665\n",
            "Epoch 180 Loss 0.0634\n",
            "Epoch 190 Loss 0.0605\n",
            "Epoch 200 Loss 0.0577\n",
            "Epoch 210 Loss 0.0545\n",
            "Epoch 220 Loss 0.0535\n",
            "Epoch 230 Loss 0.0514\n",
            "Epoch 240 Loss 0.0494\n",
            "Epoch 250 Loss 0.0477\n",
            "Epoch 260 Loss 0.0461\n",
            "Epoch 270 Loss 0.0445\n",
            "Epoch 280 Loss 0.0431\n",
            "Epoch 290 Loss 0.0418\n",
            "Epoch 300 Loss 0.0406\n",
            "Epoch 310 Loss 0.0394\n",
            "Epoch 320 Loss 0.0384\n",
            "Epoch 330 Loss 0.0373\n",
            "Epoch 340 Loss 0.0364\n",
            "Epoch 350 Loss 0.0355\n",
            "Epoch 360 Loss 0.0347\n",
            "Epoch 370 Loss 0.0339\n",
            "Epoch 380 Loss 0.0332\n",
            "Epoch 390 Loss 0.0325\n",
            "Epoch 400 Loss 0.0318\n",
            "Epoch 410 Loss 0.0312\n",
            "Epoch 420 Loss 0.0306\n",
            "Epoch 430 Loss 0.0300\n",
            "Epoch 440 Loss 0.0295\n",
            "Epoch 450 Loss 0.0289\n",
            "Epoch 460 Loss 0.0284\n",
            "Epoch 470 Loss 0.0279\n",
            "Epoch 480 Loss 0.0274\n",
            "Epoch 490 Loss 0.0269\n"
          ],
          "name": "stdout"
        }
      ]
    },
    {
      "cell_type": "code",
      "metadata": {
        "colab": {
          "base_uri": "https://localhost:8080/",
          "height": 281
        },
        "id": "XcG4XaVyP0U5",
        "outputId": "71506168-41b6-4040-b211-57aeaf1dda0f"
      },
      "source": [
        "from matplotlib import pyplot as plt\n",
        "plt.style.use(\"dark_background\")\n",
        "plt.title(\"Training Loss vs Epochs\")\n",
        "plt.plot(l)\n",
        "plt.show()"
      ],
      "execution_count": 23,
      "outputs": [
        {
          "output_type": "display_data",
          "data": {
            "image/png": "[encoded data removed]",
            "text/plain": [
              "<Figure size 432x288 with 1 Axes>"
            ]
          },
          "metadata": {
            "tags": []
          }
        }
      ]
    },
    {
      "cell_type": "code",
      "metadata": {
        "colab": {
          "base_uri": "https://localhost:8080/"
        },
        "id": "XqmYuVcXRDVH",
        "outputId": "a196d715-5c8b-409f-871c-8c7ee4967704"
      },
      "source": [
        "def getAccuracy(X,Y,model):\n",
        "    outputs = model.predict(X)\n",
        "    acc = np.sum(outputs==Y)/Y.shape[0]\n",
        "    return acc\n",
        "    \n",
        "print(\"Train Acc %.4f\"%getAccuracy(X,Y,model))"
      ],
      "execution_count": 25,
      "outputs": [
        {
          "output_type": "stream",
          "text": [
            "Train Acc 0.9836\n"
          ],
          "name": "stdout"
        }
      ]
    },
    {
      "cell_type": "code",
      "metadata": {
        "id": "OJm_vgAATYgG"
      },
      "source": [
        "p = Path('/content/drive/My Drive/Images test pokemon')"
      ],
      "execution_count": 26,
      "outputs": []
    },
    {
      "cell_type": "code",
      "metadata": {
        "id": "9qbC2GZuTk3W"
      },
      "source": [
        "images_test = []\n",
        "poke_id = []\n",
        "dirs = p.glob('*.jpg')\n",
        "labels_dict = {'Pikachu':0, 'Bulbasaur':1, 'Charmender':2}\n",
        "for d in dirs:\n",
        "    poke_id.append(str(d).split('/')[-1])\n",
        "    img = image.load_img(d,target_size=(40,40))\n",
        "    img_array = image.img_to_array(img,dtype='uint8')\n",
        "    img_array = img_array/255.0\n",
        "    images_test.append(img_array)"
      ],
      "execution_count": 27,
      "outputs": []
    },
    {
      "cell_type": "code",
      "metadata": {
        "colab": {
          "base_uri": "https://localhost:8080/"
        },
        "id": "Eb0vjV4RTywn",
        "outputId": "8b5ab385-2594-4d4c-b7c6-cd740fc6c4df"
      },
      "source": [
        "len(images_test)"
      ],
      "execution_count": 28,
      "outputs": [
        {
          "output_type": "execute_result",
          "data": {
            "text/plain": [
              "123"
            ]
          },
          "metadata": {
            "tags": []
          },
          "execution_count": 28
        }
      ]
    },
    {
      "cell_type": "code",
      "metadata": {
        "id": "e9M2-Y72UI98"
      },
      "source": [
        "XTest = np.array(images_test)"
      ],
      "execution_count": 29,
      "outputs": []
    },
    {
      "cell_type": "code",
      "metadata": {
        "id": "peaxZ3qlUZS3"
      },
      "source": [
        "XTest = XTest.reshape(XTest.shape[0],-1)"
      ],
      "execution_count": 30,
      "outputs": []
    },
    {
      "cell_type": "code",
      "metadata": {
        "id": "Rsbn6V1vYsBw"
      },
      "source": [
        "test_data = pd.read_csv('https://raw.githubusercontent.com/kislay960/Data-Science-Practice/main/test%20pokemon.csv')"
      ],
      "execution_count": 31,
      "outputs": []
    },
    {
      "cell_type": "code",
      "metadata": {
        "id": "DXCWXgW5Y1Uw"
      },
      "source": [
        "test = test_data.values"
      ],
      "execution_count": 32,
      "outputs": []
    },
    {
      "cell_type": "code",
      "metadata": {
        "id": "I8akNnd_ZGww"
      },
      "source": [
        "ans = []"
      ],
      "execution_count": 33,
      "outputs": []
    },
    {
      "cell_type": "code",
      "metadata": {
        "colab": {
          "base_uri": "https://localhost:8080/"
        },
        "id": "rJQGtwceZ0Kp",
        "outputId": "a173fd79-16c0-47a3-dcbc-29295d9a16ef"
      },
      "source": [
        "XTest.shape"
      ],
      "execution_count": 34,
      "outputs": [
        {
          "output_type": "execute_result",
          "data": {
            "text/plain": [
              "(123, 4800)"
            ]
          },
          "metadata": {
            "tags": []
          },
          "execution_count": 34
        }
      ]
    },
    {
      "cell_type": "code",
      "metadata": {
        "id": "T3d1T8bQY1Ol"
      },
      "source": [
        "for i in range(123):\n",
        "    index = poke_id.index(test[i][0])\n",
        "    ans.append(model.predict(XTest[index]))"
      ],
      "execution_count": 35,
      "outputs": []
    },
    {
      "cell_type": "code",
      "metadata": {
        "id": "b3cZH9K_Y1JB"
      },
      "source": [
        "ans = np.array(ans)"
      ],
      "execution_count": 36,
      "outputs": []
    },
    {
      "cell_type": "code",
      "metadata": {
        "id": "vsgcsEJaY0rK"
      },
      "source": [
        "ans = ans.reshape(123,)"
      ],
      "execution_count": 38,
      "outputs": []
    },
    {
      "cell_type": "code",
      "metadata": {
        "colab": {
          "base_uri": "https://localhost:8080/"
        },
        "id": "GCv8_r7_arsu",
        "outputId": "ef23a89a-a548-4ca9-ebfc-198701a714f8"
      },
      "source": [
        "ans"
      ],
      "execution_count": 39,
      "outputs": [
        {
          "output_type": "execute_result",
          "data": {
            "text/plain": [
              "array([0, 2, 0, 2, 2, 1, 2, 0, 0, 2, 0, 0, 0, 0, 2, 1, 2, 2, 2, 2, 2, 0,\n",
              "       2, 0, 0, 2, 0, 0, 1, 1, 2, 1, 2, 0, 1, 2, 0, 0, 2, 0, 0, 2, 1, 2,\n",
              "       2, 0, 2, 0, 2, 2, 1, 2, 1, 0, 2, 0, 2, 2, 2, 2, 2, 2, 2, 0, 1, 1,\n",
              "       0, 1, 1, 0, 1, 0, 0, 0, 2, 2, 2, 2, 1, 0, 1, 0, 1, 0, 1, 0, 0, 2,\n",
              "       2, 0, 0, 2, 0, 1, 2, 2, 1, 0, 1, 2, 0, 0, 0, 2, 2, 2, 2, 1, 2, 0,\n",
              "       1, 2, 2, 2, 2, 1, 2, 0, 0, 1, 2, 0, 1])"
            ]
          },
          "metadata": {
            "tags": []
          },
          "execution_count": 39
        }
      ]
    },
    {
      "cell_type": "code",
      "metadata": {
        "id": "nr1Sh7NNVPi2"
      },
      "source": [
        "rev_dict = {1:\"Pikachu\",2:\"Charmander\",0:\"Bulbasaur\"}\n",
        "lst = [rev_dict[num] for num in ans]"
      ],
      "execution_count": 40,
      "outputs": []
    },
    {
      "cell_type": "code",
      "metadata": {
        "id": "3YN_rHAdU1q5"
      },
      "source": [
        "test_data['NameOfPokemon'] = lst"
      ],
      "execution_count": 41,
      "outputs": []
    },
    {
      "cell_type": "code",
      "metadata": {
        "colab": {
          "base_uri": "https://localhost:8080/",
          "height": 198
        },
        "id": "YsmQyHmvU8WU",
        "outputId": "7fe2a775-8e8c-4e70-d825-9bda976be73d"
      },
      "source": [
        "test_data.head()"
      ],
      "execution_count": 42,
      "outputs": [
        {
          "output_type": "execute_result",
          "data": {
            "text/html": [
              "<div>\n",
              "<style scoped>\n",
              "    .dataframe tbody tr th:only-of-type {\n",
              "        vertical-align: middle;\n",
              "    }\n",
              "\n",
              "    .dataframe tbody tr th {\n",
              "        vertical-align: top;\n",
              "    }\n",
              "\n",
              "    .dataframe thead th {\n",
              "        text-align: right;\n",
              "    }\n",
              "</style>\n",
              "<table border=\"1\" class=\"dataframe\">\n",
              "  <thead>\n",
              "    <tr style=\"text-align: right;\">\n",
              "      <th></th>\n",
              "      <th>ImageId</th>\n",
              "      <th>NameOfPokemon</th>\n",
              "    </tr>\n",
              "  </thead>\n",
              "  <tbody>\n",
              "    <tr>\n",
              "      <th>0</th>\n",
              "      <td>1106.jpg</td>\n",
              "      <td>Bulbasaur</td>\n",
              "    </tr>\n",
              "    <tr>\n",
              "      <th>1</th>\n",
              "      <td>2236.jpg</td>\n",
              "      <td>Charmander</td>\n",
              "    </tr>\n",
              "    <tr>\n",
              "      <th>2</th>\n",
              "      <td>1131.jpg</td>\n",
              "      <td>Bulbasaur</td>\n",
              "    </tr>\n",
              "    <tr>\n",
              "      <th>3</th>\n",
              "      <td>2221.jpg</td>\n",
              "      <td>Charmander</td>\n",
              "    </tr>\n",
              "    <tr>\n",
              "      <th>4</th>\n",
              "      <td>2011.jpg</td>\n",
              "      <td>Charmander</td>\n",
              "    </tr>\n",
              "  </tbody>\n",
              "</table>\n",
              "</div>"
            ],
            "text/plain": [
              "    ImageId NameOfPokemon\n",
              "0  1106.jpg     Bulbasaur\n",
              "1  2236.jpg    Charmander\n",
              "2  1131.jpg     Bulbasaur\n",
              "3  2221.jpg    Charmander\n",
              "4  2011.jpg    Charmander"
            ]
          },
          "metadata": {
            "tags": []
          },
          "execution_count": 42
        }
      ]
    },
    {
      "cell_type": "code",
      "metadata": {
        "id": "H6O4R9JRVNx5"
      },
      "source": [
        "test_data.to_csv('submission.csv',index=False)"
      ],
      "execution_count": 43,
      "outputs": []
    },
    {
      "cell_type": "markdown",
      "metadata": {
        "id": "U9GATwde6lBJ"
      },
      "source": [
        "**On submission, we found the test accuracy to be 78%**"
      ]
    }
  ]
}