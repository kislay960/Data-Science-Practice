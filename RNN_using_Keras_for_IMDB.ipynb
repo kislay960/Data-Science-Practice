{
  "nbformat": 4,
  "nbformat_minor": 0,
  "metadata": {
    "colab": {
      "name": "RNN using Keras for IMDB.ipynb",
      "provenance": [],
      "authorship_tag": "ABX9TyN1u8Q3CaZ9jbHvQLTzchOW",
      "include_colab_link": true
    },
    "kernelspec": {
      "name": "python3",
      "display_name": "Python 3"
    }
  },
  "cells": [
    {
      "cell_type": "markdown",
      "metadata": {
        "id": "view-in-github",
        "colab_type": "text"
      },
      "source": [
        "<a href=\"https://colab.research.google.com/github/kislay960/Data-Science-Practice/blob/main/RNN_using_Keras_for_IMDB.ipynb\" target=\"_parent\"><img src=\"https://colab.research.google.com/assets/colab-badge.svg\" alt=\"Open In Colab\"/></a>"
      ]
    },
    {
      "cell_type": "code",
      "metadata": {
        "colab": {
          "base_uri": "https://localhost:8080/"
        },
        "id": "LhjMTbjMUjVa",
        "outputId": "435a411a-e7c7-412d-af61-e6f40495eafc"
      },
      "source": [
        "from keras.datasets import imdb\n",
        "\n",
        "((XT,YT),(Xt,Yt)) = imdb.load_data(num_words=10000)"
      ],
      "execution_count": 1,
      "outputs": [
        {
          "output_type": "stream",
          "text": [
            "Downloading data from https://storage.googleapis.com/tensorflow/tf-keras-datasets/imdb.npz\n",
            "17465344/17464789 [==============================] - 0s 0us/step\n"
          ],
          "name": "stdout"
        }
      ]
    },
    {
      "cell_type": "code",
      "metadata": {
        "colab": {
          "base_uri": "https://localhost:8080/"
        },
        "id": "SAQoqiBCVJni",
        "outputId": "7d15a419-e51a-4913-c1e0-65647e77ef96"
      },
      "source": [
        "print(len(XT))\n",
        "print(len(Xt))"
      ],
      "execution_count": 2,
      "outputs": [
        {
          "output_type": "stream",
          "text": [
            "25000\n",
            "25000\n"
          ],
          "name": "stdout"
        }
      ]
    },
    {
      "cell_type": "code",
      "metadata": {
        "colab": {
          "base_uri": "https://localhost:8080/"
        },
        "id": "e1sirEd8VQJ4",
        "outputId": "cf58878a-a8cc-41ad-829e-2a88fe414e38"
      },
      "source": [
        "print(XT[0])\n",
        "print(len(XT[0]))"
      ],
      "execution_count": 3,
      "outputs": [
        {
          "output_type": "stream",
          "text": [
            "[1, 14, 22, 16, 43, 530, 973, 1622, 1385, 65, 458, 4468, 66, 3941, 4, 173, 36, 256, 5, 25, 100, 43, 838, 112, 50, 670, 2, 9, 35, 480, 284, 5, 150, 4, 172, 112, 167, 2, 336, 385, 39, 4, 172, 4536, 1111, 17, 546, 38, 13, 447, 4, 192, 50, 16, 6, 147, 2025, 19, 14, 22, 4, 1920, 4613, 469, 4, 22, 71, 87, 12, 16, 43, 530, 38, 76, 15, 13, 1247, 4, 22, 17, 515, 17, 12, 16, 626, 18, 2, 5, 62, 386, 12, 8, 316, 8, 106, 5, 4, 2223, 5244, 16, 480, 66, 3785, 33, 4, 130, 12, 16, 38, 619, 5, 25, 124, 51, 36, 135, 48, 25, 1415, 33, 6, 22, 12, 215, 28, 77, 52, 5, 14, 407, 16, 82, 2, 8, 4, 107, 117, 5952, 15, 256, 4, 2, 7, 3766, 5, 723, 36, 71, 43, 530, 476, 26, 400, 317, 46, 7, 4, 2, 1029, 13, 104, 88, 4, 381, 15, 297, 98, 32, 2071, 56, 26, 141, 6, 194, 7486, 18, 4, 226, 22, 21, 134, 476, 26, 480, 5, 144, 30, 5535, 18, 51, 36, 28, 224, 92, 25, 104, 4, 226, 65, 16, 38, 1334, 88, 12, 16, 283, 5, 16, 4472, 113, 103, 32, 15, 16, 5345, 19, 178, 32]\n",
            "218\n"
          ],
          "name": "stdout"
        }
      ]
    },
    {
      "cell_type": "code",
      "metadata": {
        "colab": {
          "base_uri": "https://localhost:8080/"
        },
        "id": "4S_kUEuRVUyh",
        "outputId": "68cecea9-baf6-475e-ebeb-4c34fe3a5998"
      },
      "source": [
        "word_idx = imdb.get_word_index()"
      ],
      "execution_count": 4,
      "outputs": [
        {
          "output_type": "stream",
          "text": [
            "Downloading data from https://storage.googleapis.com/tensorflow/tf-keras-datasets/imdb_word_index.json\n",
            "1646592/1641221 [==============================] - 0s 0us/step\n"
          ],
          "name": "stdout"
        }
      ]
    },
    {
      "cell_type": "code",
      "metadata": {
        "id": "-ciPx5U9VX7h"
      },
      "source": [
        "# Create a 2D Tensor to be processed by the embedding layer\n",
        "from keras.preprocessing import sequence\n",
        "\n",
        "X_train = sequence.pad_sequences(XT,maxlen=500)\n",
        "X_test = sequence.pad_sequences(Xt,maxlen=500)"
      ],
      "execution_count": 5,
      "outputs": []
    },
    {
      "cell_type": "code",
      "metadata": {
        "colab": {
          "base_uri": "https://localhost:8080/"
        },
        "id": "kCJoKpJrXcIB",
        "outputId": "3d6e80df-3c13-4783-db2a-5c432e47e300"
      },
      "source": [
        "from keras.layers import Embedding,SimpleRNN,Dense\n",
        "from keras.models import Sequential\n",
        "\n",
        "model = Sequential()\n",
        "model.add(Embedding(10000,64))\n",
        "model.add(SimpleRNN(32))\n",
        "model.add(Dense(1,activation='sigmoid'))\n",
        "model.summary()"
      ],
      "execution_count": 6,
      "outputs": [
        {
          "output_type": "stream",
          "text": [
            "Model: \"sequential\"\n",
            "_________________________________________________________________\n",
            "Layer (type)                 Output Shape              Param #   \n",
            "=================================================================\n",
            "embedding (Embedding)        (None, None, 64)          640000    \n",
            "_________________________________________________________________\n",
            "simple_rnn (SimpleRNN)       (None, 32)                3104      \n",
            "_________________________________________________________________\n",
            "dense (Dense)                (None, 1)                 33        \n",
            "=================================================================\n",
            "Total params: 643,137\n",
            "Trainable params: 643,137\n",
            "Non-trainable params: 0\n",
            "_________________________________________________________________\n"
          ],
          "name": "stdout"
        }
      ]
    },
    {
      "cell_type": "code",
      "metadata": {
        "id": "gpBWDpXrYurV"
      },
      "source": [
        "model.compile(optimizer='rmsprop',loss='binary_crossentropy',metrics=['accuracy'])"
      ],
      "execution_count": 7,
      "outputs": []
    },
    {
      "cell_type": "code",
      "metadata": {
        "colab": {
          "base_uri": "https://localhost:8080/"
        },
        "id": "Pb68nYC8YzIb",
        "outputId": "76306c4d-4497-4128-ead0-d8b9d8c2d703"
      },
      "source": [
        "hist = model.fit(X_train,YT,validation_split=0.2,epochs=10,batch_size=128)"
      ],
      "execution_count": 8,
      "outputs": [
        {
          "output_type": "stream",
          "text": [
            "Epoch 1/10\n",
            "157/157 [==============================] - 26s 168ms/step - loss: 0.5924 - accuracy: 0.6746 - val_loss: 0.4367 - val_accuracy: 0.8274\n",
            "Epoch 2/10\n",
            "157/157 [==============================] - 26s 164ms/step - loss: 0.4424 - accuracy: 0.8110 - val_loss: 0.4464 - val_accuracy: 0.7970\n",
            "Epoch 3/10\n",
            "157/157 [==============================] - 26s 166ms/step - loss: 0.2742 - accuracy: 0.8943 - val_loss: 0.4049 - val_accuracy: 0.8410\n",
            "Epoch 4/10\n",
            "157/157 [==============================] - 26s 164ms/step - loss: 0.1820 - accuracy: 0.9336 - val_loss: 0.4604 - val_accuracy: 0.7972\n",
            "Epoch 5/10\n",
            "157/157 [==============================] - 26s 164ms/step - loss: 0.1063 - accuracy: 0.9647 - val_loss: 0.5093 - val_accuracy: 0.8306\n",
            "Epoch 6/10\n",
            "157/157 [==============================] - 26s 163ms/step - loss: 0.0667 - accuracy: 0.9787 - val_loss: 0.5404 - val_accuracy: 0.7984\n",
            "Epoch 7/10\n",
            "157/157 [==============================] - 26s 164ms/step - loss: 0.0390 - accuracy: 0.9888 - val_loss: 0.4796 - val_accuracy: 0.8482\n",
            "Epoch 8/10\n",
            "157/157 [==============================] - 26s 164ms/step - loss: 0.0255 - accuracy: 0.9934 - val_loss: 0.5907 - val_accuracy: 0.8292\n",
            "Epoch 9/10\n",
            "157/157 [==============================] - 26s 164ms/step - loss: 0.0211 - accuracy: 0.9942 - val_loss: 0.6414 - val_accuracy: 0.8178\n",
            "Epoch 10/10\n",
            "157/157 [==============================] - 26s 166ms/step - loss: 0.0099 - accuracy: 0.9973 - val_loss: 0.7627 - val_accuracy: 0.7942\n"
          ],
          "name": "stdout"
        }
      ]
    },
    {
      "cell_type": "code",
      "metadata": {
        "colab": {
          "base_uri": "https://localhost:8080/",
          "height": 545
        },
        "id": "1DhsWx2cY_iO",
        "outputId": "e764d3b7-3b8a-49fd-b7b8-d9794ed9ac5b"
      },
      "source": [
        "import matplotlib.pyplot as plt\n",
        "\n",
        "acc = hist.history['accuracy']\n",
        "val_acc = hist.history['val_accuracy']\n",
        "\n",
        "loss = hist.history['loss']\n",
        "val_loss = hist.history['val_loss']\n",
        "\n",
        "epochs = range(1,len(loss)+1)\n",
        "\n",
        "plt.title(\"Loss vs Epochs\")\n",
        "plt.plot(epochs,loss,label=\"Training Loss\")\n",
        "plt.plot(epochs,val_loss,label=\"Val Loss\")\n",
        "plt.legend()\n",
        "plt.show()\n",
        "\n",
        "plt.title(\"Accuracy vs Epochs\")\n",
        "plt.plot(epochs,acc,label=\"Training Acc\")\n",
        "plt.plot(epochs,val_acc,label=\"Val Acc\")\n",
        "plt.legend()\n",
        "plt.show()"
      ],
      "execution_count": 10,
      "outputs": [
        {
          "output_type": "display_data",
          "data": {
            "image/png": "[encoded data removed]",
            "text/plain": [
              "<Figure size 432x288 with 1 Axes>"
            ]
          },
          "metadata": {
            "tags": [],
            "needs_background": "light"
          }
        },
        {
          "output_type": "display_data",
          "data": {
            "image/png": "[encoded data removed]",
            "text/plain": [
              "<Figure size 432x288 with 1 Axes>"
            ]
          },
          "metadata": {
            "tags": [],
            "needs_background": "light"
          }
        }
      ]
    },
    {
      "cell_type": "code",
      "metadata": {
        "colab": {
          "base_uri": "https://localhost:8080/"
        },
        "id": "-cexOyZdaL50",
        "outputId": "20b11f1d-1d68-4462-8d28-e59d08a47fe8"
      },
      "source": [
        "model = Sequential()\n",
        "model.add(Embedding(10000,64))\n",
        "model.add(SimpleRNN(32))\n",
        "model.add(Dense(1,activation='sigmoid'))\n",
        "model.summary()"
      ],
      "execution_count": 14,
      "outputs": [
        {
          "output_type": "stream",
          "text": [
            "Model: \"sequential_2\"\n",
            "_________________________________________________________________\n",
            "Layer (type)                 Output Shape              Param #   \n",
            "=================================================================\n",
            "embedding_2 (Embedding)      (None, None, 64)          640000    \n",
            "_________________________________________________________________\n",
            "simple_rnn_2 (SimpleRNN)     (None, 32)                3104      \n",
            "_________________________________________________________________\n",
            "dense_2 (Dense)              (None, 1)                 33        \n",
            "=================================================================\n",
            "Total params: 643,137\n",
            "Trainable params: 643,137\n",
            "Non-trainable params: 0\n",
            "_________________________________________________________________\n"
          ],
          "name": "stdout"
        }
      ]
    },
    {
      "cell_type": "code",
      "metadata": {
        "id": "5eZPskBabDni"
      },
      "source": [
        "model.compile(optimizer='rmsprop',loss='binary_crossentropy',metrics=['accuracy'])"
      ],
      "execution_count": 15,
      "outputs": []
    },
    {
      "cell_type": "code",
      "metadata": {
        "colab": {
          "base_uri": "https://localhost:8080/"
        },
        "id": "RbZs51IabIeB",
        "outputId": "9e908bed-2c36-4139-bd27-cdce15425cc3"
      },
      "source": [
        "from keras.callbacks import ModelCheckpoint # save the best model, fight overfiitting\n",
        "from keras.callbacks import EarlyStopping #save time\n",
        "\n",
        "checkpoint = ModelCheckpoint(\"best_model.h5\", monitor='val_loss', verbose=0, save_best_only=True, save_weights_only=False, mode='auto', period=1)\n",
        "earlystop = EarlyStopping(monitor='val_accuracy',patience=1)\n",
        "\n",
        "hist = model.fit(X_train,YT,validation_split=0.2,epochs=10,batch_size=128,callbacks=[checkpoint,earlystop])"
      ],
      "execution_count": 16,
      "outputs": [
        {
          "output_type": "stream",
          "text": [
            "WARNING:tensorflow:`period` argument is deprecated. Please use `save_freq` to specify the frequency in number of batches seen.\n",
            "Epoch 1/10\n",
            "157/157 [==============================] - 26s 168ms/step - loss: 0.6389 - accuracy: 0.6159 - val_loss: 0.5051 - val_accuracy: 0.7596\n",
            "Epoch 2/10\n",
            "157/157 [==============================] - 26s 166ms/step - loss: 0.3882 - accuracy: 0.8306 - val_loss: 0.3563 - val_accuracy: 0.8568\n",
            "Epoch 3/10\n",
            "157/157 [==============================] - 26s 166ms/step - loss: 0.2673 - accuracy: 0.8951 - val_loss: 0.4064 - val_accuracy: 0.8212\n"
          ],
          "name": "stdout"
        }
      ]
    },
    {
      "cell_type": "code",
      "metadata": {
        "colab": {
          "base_uri": "https://localhost:8080/",
          "height": 545
        },
        "id": "rVbNgjhXbMAI",
        "outputId": "0aa53603-aeee-4c88-ffec-8237dd2a6459"
      },
      "source": [
        "acc = hist.history['accuracy']\n",
        "val_acc = hist.history['val_accuracy']\n",
        "\n",
        "loss = hist.history['loss']\n",
        "val_loss = hist.history['val_loss']\n",
        "\n",
        "epochs = range(1,len(loss)+1)\n",
        "\n",
        "plt.title(\"Loss vs Epochs\")\n",
        "plt.plot(epochs,loss,label=\"Training Loss\")\n",
        "plt.plot(epochs,val_loss,label=\"Val Loss\")\n",
        "plt.legend()\n",
        "plt.show()\n",
        "\n",
        "plt.title(\"Accuracy vs Epochs\")\n",
        "plt.plot(epochs,acc,label=\"Training Acc\")\n",
        "plt.plot(epochs,val_acc,label=\"Val Acc\")\n",
        "plt.legend()\n",
        "plt.show()"
      ],
      "execution_count": 17,
      "outputs": [
        {
          "output_type": "display_data",
          "data": {
            "image/png": "[encoded data removed]",
            "text/plain": [
              "<Figure size 432x288 with 1 Axes>"
            ]
          },
          "metadata": {
            "tags": [],
            "needs_background": "light"
          }
        },
        {
          "output_type": "display_data",
          "data": {
            "image/png": "[encoded data removed]",
            "text/plain": [
              "<Figure size 432x288 with 1 Axes>"
            ]
          },
          "metadata": {
            "tags": [],
            "needs_background": "light"
          }
        }
      ]
    },
    {
      "cell_type": "code",
      "metadata": {
        "colab": {
          "base_uri": "https://localhost:8080/"
        },
        "id": "dAV05E7QcY1N",
        "outputId": "57e55d35-8b04-4a5a-bddc-17a5953b4ae1"
      },
      "source": [
        "!ls"
      ],
      "execution_count": 18,
      "outputs": [
        {
          "output_type": "stream",
          "text": [
            "best_model.h5  sample_data\n"
          ],
          "name": "stdout"
        }
      ]
    },
    {
      "cell_type": "code",
      "metadata": {
        "id": "QpILRLYNceCP"
      },
      "source": [
        "model.load_weights(\"best_model.h5\")"
      ],
      "execution_count": 19,
      "outputs": []
    },
    {
      "cell_type": "code",
      "metadata": {
        "colab": {
          "base_uri": "https://localhost:8080/"
        },
        "id": "yf6q7isHcmg-",
        "outputId": "3999fe79-702d-4822-8b95-9d955651f8bc"
      },
      "source": [
        "model.evaluate(X_test,Yt)"
      ],
      "execution_count": 20,
      "outputs": [
        {
          "output_type": "stream",
          "text": [
            "782/782 [==============================] - 18s 23ms/step - loss: 0.3665 - accuracy: 0.8508\n"
          ],
          "name": "stdout"
        },
        {
          "output_type": "execute_result",
          "data": {
            "text/plain": [
              "[0.3664763271808624, 0.8508399724960327]"
            ]
          },
          "metadata": {
            "tags": []
          },
          "execution_count": 20
        }
      ]
    },
    {
      "cell_type": "code",
      "metadata": {
        "colab": {
          "base_uri": "https://localhost:8080/"
        },
        "id": "EJgrL76EcolZ",
        "outputId": "8eb0cd50-5a50-4978-d328-4d9ac97eaeb1"
      },
      "source": [
        "model.evaluate(X_train,YT)"
      ],
      "execution_count": 21,
      "outputs": [
        {
          "output_type": "stream",
          "text": [
            "782/782 [==============================] - 18s 23ms/step - loss: 0.2690 - accuracy: 0.8950\n"
          ],
          "name": "stdout"
        },
        {
          "output_type": "execute_result",
          "data": {
            "text/plain": [
              "[0.26899075508117676, 0.8949599862098694]"
            ]
          },
          "metadata": {
            "tags": []
          },
          "execution_count": 21
        }
      ]
    },
    {
      "cell_type": "code",
      "metadata": {
        "id": "biIxtoj3cxQh"
      },
      "source": [
        ""
      ],
      "execution_count": null,
      "outputs": []
    }
  ]
}