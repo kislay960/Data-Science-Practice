{
  "nbformat": 4,
  "nbformat_minor": 0,
  "metadata": {
    "colab": {
      "name": "Simple CNN MNIST.ipynb",
      "provenance": [],
      "authorship_tag": "ABX9TyOOPU/UK9062wvM3wY/+WrU",
      "include_colab_link": true
    },
    "kernelspec": {
      "name": "python3",
      "display_name": "Python 3"
    },
    "accelerator": "TPU"
  },
  "cells": [
    {
      "cell_type": "markdown",
      "metadata": {
        "id": "view-in-github",
        "colab_type": "text"
      },
      "source": [
        "<a href=\"https://colab.research.google.com/github/kislay960/Data-Science-Practice/blob/main/Simple_CNN_MNIST.ipynb\" target=\"_parent\"><img src=\"https://colab.research.google.com/assets/colab-badge.svg\" alt=\"Open In Colab\"/></a>"
      ]
    },
    {
      "cell_type": "code",
      "metadata": {
        "id": "KrFXKD5sSbgn"
      },
      "source": [
        "from keras.layers import *\n",
        "from keras.models import Sequential"
      ],
      "execution_count": 1,
      "outputs": []
    },
    {
      "cell_type": "code",
      "metadata": {
        "id": "qWRTODNmmJ3t"
      },
      "source": [
        "model = Sequential()\n",
        "\n",
        "model.add(Convolution2D(32,(3,3),activation='relu',input_shape=(28,28,1)))\n",
        "model.add(MaxPooling2D((2,2)))\n",
        "\n",
        "model.add(Convolution2D(64,(3,3),activation='relu'))\n",
        "model.add(MaxPooling2D((2,2)))\n",
        "\n",
        "model.add(Convolution2D(64,(3,3),activation='relu'))\n",
        "model.add(Flatten())\n",
        "model.add(Dense(64,activation='relu'))\n",
        "model.add(Dense(10,activation='softmax'))"
      ],
      "execution_count": 2,
      "outputs": []
    },
    {
      "cell_type": "code",
      "metadata": {
        "colab": {
          "base_uri": "https://localhost:8080/"
        },
        "id": "MyF_jAuWoqvC",
        "outputId": "3d683dd9-4598-4ca7-d846-e6433ef4e104"
      },
      "source": [
        "model.summary()"
      ],
      "execution_count": 3,
      "outputs": [
        {
          "output_type": "stream",
          "text": [
            "Model: \"sequential\"\n",
            "_________________________________________________________________\n",
            "Layer (type)                 Output Shape              Param #   \n",
            "=================================================================\n",
            "conv2d (Conv2D)              (None, 26, 26, 32)        320       \n",
            "_________________________________________________________________\n",
            "max_pooling2d (MaxPooling2D) (None, 13, 13, 32)        0         \n",
            "_________________________________________________________________\n",
            "conv2d_1 (Conv2D)            (None, 11, 11, 64)        18496     \n",
            "_________________________________________________________________\n",
            "max_pooling2d_1 (MaxPooling2 (None, 5, 5, 64)          0         \n",
            "_________________________________________________________________\n",
            "conv2d_2 (Conv2D)            (None, 3, 3, 64)          36928     \n",
            "_________________________________________________________________\n",
            "flatten (Flatten)            (None, 576)               0         \n",
            "_________________________________________________________________\n",
            "dense (Dense)                (None, 64)                36928     \n",
            "_________________________________________________________________\n",
            "dense_1 (Dense)              (None, 10)                650       \n",
            "=================================================================\n",
            "Total params: 93,322\n",
            "Trainable params: 93,322\n",
            "Non-trainable params: 0\n",
            "_________________________________________________________________\n"
          ],
          "name": "stdout"
        }
      ]
    },
    {
      "cell_type": "code",
      "metadata": {
        "id": "QrRA6bVsotCZ"
      },
      "source": [
        "from keras.datasets import mnist\n",
        "from keras.utils import to_categorical"
      ],
      "execution_count": 4,
      "outputs": []
    },
    {
      "cell_type": "code",
      "metadata": {
        "colab": {
          "base_uri": "https://localhost:8080/"
        },
        "id": "PIF26FsfquTd",
        "outputId": "8aec8954-d87b-490a-b9fe-93551f7ba389"
      },
      "source": [
        "(XT,YT),(Xt,Yt) = mnist.load_data()"
      ],
      "execution_count": 5,
      "outputs": [
        {
          "output_type": "stream",
          "text": [
            "Downloading data from https://storage.googleapis.com/tensorflow/tf-keras-datasets/mnist.npz\n",
            "11493376/11490434 [==============================] - 0s 0us/step\n"
          ],
          "name": "stdout"
        }
      ]
    },
    {
      "cell_type": "code",
      "metadata": {
        "id": "sQTod1VCq1RU"
      },
      "source": [
        "def process_data(X,Y):\n",
        "    X = X.reshape((-1,28,28,1))\n",
        "    X = X/255.0\n",
        "\n",
        "    Y = to_categorical(Y)\n",
        "    \n",
        "    return X,Y"
      ],
      "execution_count": 6,
      "outputs": []
    },
    {
      "cell_type": "code",
      "metadata": {
        "colab": {
          "base_uri": "https://localhost:8080/"
        },
        "id": "y4DsmdrbrF5V",
        "outputId": "ab6acd40-8af4-42b5-915e-04e2ef50c39e"
      },
      "source": [
        "XT,YT = process_data(XT,YT)\n",
        "print(XT.shape,YT.shape)"
      ],
      "execution_count": 7,
      "outputs": [
        {
          "output_type": "stream",
          "text": [
            "(60000, 28, 28, 1) (60000, 10)\n"
          ],
          "name": "stdout"
        }
      ]
    },
    {
      "cell_type": "code",
      "metadata": {
        "colab": {
          "base_uri": "https://localhost:8080/"
        },
        "id": "AhgkGvyKrPLz",
        "outputId": "70684f9b-985b-4baa-aed3-560099055325"
      },
      "source": [
        "Xt,Yt = process_data(Xt,Yt)\n",
        "print(Xt.shape,Yt.shape)"
      ],
      "execution_count": 8,
      "outputs": [
        {
          "output_type": "stream",
          "text": [
            "(10000, 28, 28, 1) (10000, 10)\n"
          ],
          "name": "stdout"
        }
      ]
    },
    {
      "cell_type": "code",
      "metadata": {
        "id": "DgclQk_UrZQh"
      },
      "source": [
        "model.compile(optimizer='adam',loss='categorical_crossentropy', metrics=['accuracy'])"
      ],
      "execution_count": 9,
      "outputs": []
    },
    {
      "cell_type": "code",
      "metadata": {
        "colab": {
          "base_uri": "https://localhost:8080/"
        },
        "id": "TwGYsuerrq3O",
        "outputId": "722a60d5-fcc3-4532-f284-de7a36860cdf"
      },
      "source": [
        "hist = model.fit(XT,YT,epochs=5,batch_size=128,validation_split=0.1)"
      ],
      "execution_count": 11,
      "outputs": [
        {
          "output_type": "stream",
          "text": [
            "Epoch 1/5\n",
            "422/422 [==============================] - 41s 96ms/step - loss: 0.0306 - accuracy: 0.9906 - val_loss: 0.0314 - val_accuracy: 0.9910\n",
            "Epoch 2/5\n",
            "422/422 [==============================] - 40s 94ms/step - loss: 0.0246 - accuracy: 0.9923 - val_loss: 0.0426 - val_accuracy: 0.9892\n",
            "Epoch 3/5\n",
            "422/422 [==============================] - 40s 96ms/step - loss: 0.0195 - accuracy: 0.9936 - val_loss: 0.0352 - val_accuracy: 0.9908\n",
            "Epoch 4/5\n",
            "422/422 [==============================] - 42s 99ms/step - loss: 0.0185 - accuracy: 0.9938 - val_loss: 0.0384 - val_accuracy: 0.9892\n",
            "Epoch 5/5\n",
            "422/422 [==============================] - 42s 98ms/step - loss: 0.0142 - accuracy: 0.9955 - val_loss: 0.0340 - val_accuracy: 0.9917\n"
          ],
          "name": "stdout"
        }
      ]
    },
    {
      "cell_type": "code",
      "metadata": {
        "colab": {
          "base_uri": "https://localhost:8080/"
        },
        "id": "_NFe0wY2w60G",
        "outputId": "bf555af5-b2ed-4457-b9c9-bc792991ccf5"
      },
      "source": [
        "model.evaluate(Xt,Yt)"
      ],
      "execution_count": 12,
      "outputs": [
        {
          "output_type": "stream",
          "text": [
            "313/313 [==============================] - 4s 12ms/step - loss: 0.0255 - accuracy: 0.9921\n"
          ],
          "name": "stdout"
        },
        {
          "output_type": "execute_result",
          "data": {
            "text/plain": [
              "[0.025530628859996796, 0.9921000003814697]"
            ]
          },
          "metadata": {
            "tags": []
          },
          "execution_count": 12
        }
      ]
    },
    {
      "cell_type": "code",
      "metadata": {
        "id": "OkpsuGikyKPY"
      },
      "source": [
        ""
      ],
      "execution_count": null,
      "outputs": []
    }
  ]
}