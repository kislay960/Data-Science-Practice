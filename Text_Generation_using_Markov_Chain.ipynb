{
  "nbformat": 4,
  "nbformat_minor": 0,
  "metadata": {
    "colab": {
      "name": "Text Generation using Markov Chain.ipynb",
      "provenance": [],
      "authorship_tag": "ABX9TyMgaCiOAyuFlrU/lDPOWw18",
      "include_colab_link": true
    },
    "kernelspec": {
      "name": "python3",
      "display_name": "Python 3"
    }
  },
  "cells": [
    {
      "cell_type": "markdown",
      "metadata": {
        "id": "view-in-github",
        "colab_type": "text"
      },
      "source": [
        "<a href=\"https://colab.research.google.com/github/kislay960/Data-Science-Practice/blob/main/Text_Generation_using_Markov_Chain.ipynb\" target=\"_parent\"><img src=\"https://colab.research.google.com/assets/colab-badge.svg\" alt=\"Open In Colab\"/></a>"
      ]
    },
    {
      "cell_type": "code",
      "metadata": {
        "id": "kXsFD2RJYqbY"
      },
      "source": [
        "def generateTable(data,k=4):\n",
        "    \n",
        "    T = {}\n",
        "    for i in range(len(data)-k):\n",
        "        X = data[i:i+k]\n",
        "        Y = data[i+k]\n",
        "        \n",
        "        if T.get(X) is None:\n",
        "            T[X] = {}\n",
        "            T[X][Y] = 1\n",
        "        else:\n",
        "            if T[X].get(Y) is None:\n",
        "                T[X][Y] = 1\n",
        "            else:\n",
        "                T[X][Y] += 1\n",
        "    \n",
        "    return T"
      ],
      "execution_count": 1,
      "outputs": []
    },
    {
      "cell_type": "code",
      "metadata": {
        "id": "sf6kcwCIYuvw"
      },
      "source": [
        "T = generateTable('hello hello helli')"
      ],
      "execution_count": 5,
      "outputs": []
    },
    {
      "cell_type": "code",
      "metadata": {
        "id": "QiPQ2bUPZciX"
      },
      "source": [
        "def convertFreqIntoProb(T):     \n",
        "    for kx in T.keys():\n",
        "        s = float(sum(T[kx].values()))\n",
        "        for k in T[kx].keys():\n",
        "            T[kx][k] = T[kx][k]/s                \n",
        "    return T"
      ],
      "execution_count": 4,
      "outputs": []
    },
    {
      "cell_type": "code",
      "metadata": {
        "colab": {
          "base_uri": "https://localhost:8080/"
        },
        "id": "tHtsbA6KaOQH",
        "outputId": "0fc6c301-2598-4461-b7f0-c7009712a99a"
      },
      "source": [
        "T = convertFreqIntoProb(T)\n",
        "T"
      ],
      "execution_count": 7,
      "outputs": [
        {
          "output_type": "execute_result",
          "data": {
            "text/plain": [
              "{' hel': {'l': 1.0},\n",
              " 'ello': {' ': 1.0},\n",
              " 'hell': {'i': 0.3333333333333333, 'o': 0.6666666666666666},\n",
              " 'llo ': {'h': 1.0},\n",
              " 'lo h': {'e': 1.0},\n",
              " 'o he': {'l': 1.0}}"
            ]
          },
          "metadata": {
            "tags": []
          },
          "execution_count": 7
        }
      ]
    },
    {
      "cell_type": "code",
      "metadata": {
        "id": "ssRSK7cEaa0J"
      },
      "source": [
        "text_path = \"/content/english_speech_2.txt\"\n",
        "def load_text(filename):\n",
        "    with open(filename,encoding='utf8') as f:\n",
        "        return f.read().lower()\n",
        "    \n",
        "text = load_text(text_path)"
      ],
      "execution_count": 8,
      "outputs": []
    },
    {
      "cell_type": "code",
      "metadata": {
        "colab": {
          "base_uri": "https://localhost:8080/"
        },
        "id": "JQT3MqbMb2gp",
        "outputId": "1927de66-73dd-4b73-8544-d9dbf43d2d7c"
      },
      "source": [
        "print(text[:1000])"
      ],
      "execution_count": 9,
      "outputs": [
        {
          "output_type": "stream",
          "text": [
            "my dear countrymen,\n",
            "\n",
            "many of you wish many-many good wishes of the holy festival of independence.\n",
            "\n",
            "today the country is full of confidence. the country is crossing the new heights by plowing the resolve of dreams with hard work. today's sunrise has brought a new consciousness, new excitement, new excitement, new energy.\n",
            "\n",
            "our lovely countrymen, once in 12 years, flowers of nilakurinya grow in our country. this year, on the hills of nilgiris in the south, it is like our nilkurinji flower like the ashok chakra of the tricolor flag, in the festival of freedom of the country.\n",
            "\n",
            "my dear countrymen, we are celebrating this festival of independence, when our daughters uttarakhand, himachal, manipur, telangana, andhra pradesh - our daughters of these states crossed seven seas and coloring the seven seas with a color of tricolor came back\n",
            "\n",
            "my dear countrymen, we are celebrating the festival of independence at that time, when everest triumphs were so many, many of our heroes, many of our daughters\n"
          ],
          "name": "stdout"
        }
      ]
    },
    {
      "cell_type": "code",
      "metadata": {
        "id": "vK8lSooib8Qe"
      },
      "source": [
        "def trainMarkovChain(text,k=4):\n",
        "    \n",
        "    T = generateTable(text,k)\n",
        "    T = convertFreqIntoProb(T)\n",
        "    \n",
        "    return T"
      ],
      "execution_count": 10,
      "outputs": []
    },
    {
      "cell_type": "code",
      "metadata": {
        "id": "0ZFe6ogqcEST"
      },
      "source": [
        "model = trainMarkovChain(text)"
      ],
      "execution_count": 11,
      "outputs": []
    },
    {
      "cell_type": "code",
      "metadata": {
        "id": "PpCeA9rkcHa1"
      },
      "source": [
        "import numpy as np\n",
        "\n",
        "def sample_next(ctx,T,k):\n",
        "    ctx = ctx[-k:]\n",
        "    if T.get(ctx) is None:\n",
        "        return \" \"\n",
        "    possible_Chars = list(T[ctx].keys())\n",
        "    possible_values = list(T[ctx].values())\n",
        "    \n",
        "    return np.random.choice(possible_Chars,p=possible_values)"
      ],
      "execution_count": 14,
      "outputs": []
    },
    {
      "cell_type": "code",
      "metadata": {
        "colab": {
          "base_uri": "https://localhost:8080/",
          "height": 35
        },
        "id": "1aDGPNISeu1l",
        "outputId": "adceb100-e769-4ec3-81dc-d63f39a1bbfc"
      },
      "source": [
        "sample_next(\"comm\",model,4)"
      ],
      "execution_count": 15,
      "outputs": [
        {
          "output_type": "execute_result",
          "data": {
            "application/vnd.google.colaboratory.intrinsic+json": {
              "type": "string"
            },
            "text/plain": [
              "'i'"
            ]
          },
          "metadata": {
            "tags": []
          },
          "execution_count": 15
        }
      ]
    },
    {
      "cell_type": "code",
      "metadata": {
        "id": "3Yfcjhs3ewLS"
      },
      "source": [
        "def generateText(starting_sent,k=4,maxLen=1000):\n",
        "    \n",
        "    sentence = starting_sent\n",
        "    ctx = starting_sent[-k:]\n",
        "    \n",
        "    for ix in range(maxLen):\n",
        "        next_prediction = sample_next(ctx,model,k)\n",
        "        sentence += next_prediction\n",
        "        ctx = sentence[-k:]\n",
        "    \n",
        "    return sentence"
      ],
      "execution_count": 16,
      "outputs": []
    },
    {
      "cell_type": "code",
      "metadata": {
        "colab": {
          "base_uri": "https://localhost:8080/"
        },
        "id": "ICkonrJ6fizA",
        "outputId": "4e5b2ba9-65a0-48f4-b207-d50a743c2238"
      },
      "source": [
        "text = generateText(\"flag\",k=4,maxLen=2000)\n",
        "print(text)"
      ],
      "execution_count": 19,
      "outputs": [
        {
          "output_type": "stream",
          "text": [
            "flag today the paramilies of their great men hanging the triumphs we army of the country is like our daughters of independence. the sake of the festival of nilgiris independence, when everest economy. in the tricolor came in our power lives, to proud of the world's sunrise heroes of the tricolor, in our soldiers of indian who have lost their live the police personnel, for the tricolor flag on everest tricolor, in the festival of the tricoloring the coming the leadership of the tricolor came in any good rainfall those who have seen the fact the evidence and the lost tricoloring the celebrating us to their like of independence. the soldiers of the justice. i heartily respect the tribal children lives independence. this full of our parliament, new confidence andhra pradesh - our daught a new constitutional status to the hills of our countrymen hanging the fact their rights.\n",
            "\n",
            "the red its name backward, by plowing consciousness, today the respect the soldiers of independence and the coming the ran very had betrayed life for year, once at the country happiness, flood reports are coming constitutional glory of their like the festival ordinary forces spent was demanding and the world, today, i am involve of independence today for a confidence their help with floods, when our nilkurinji floods, when everest.\n",
            "\n",
            "\n",
            "my dear country is freedom, i am involve of our jalianwala bagh gives in the tricolor flag, in the tribal children lives, many-many revolutionary forceful with sense this freedom of the hills of their loved its name in the tried to the session.\n",
            "\n",
            "we army of nilkurinya grow in the sake our parliament was demanding from to that the new consciousness to protect that their sacrifice of nilkurinji floods, who have lok sabha have suffered its name backward, by hoistered fort in order the triumphs went has tricolor, in any of independence of tribal children lives, our soldiers sacrifice more for that in such a positivity andhra pradesh - our daughters of the are countrymen, the ha\n"
          ],
          "name": "stdout"
        }
      ]
    },
    {
      "cell_type": "code",
      "metadata": {
        "id": "fG3Q8anafrtM"
      },
      "source": [
        ""
      ],
      "execution_count": null,
      "outputs": []
    }
  ]
}