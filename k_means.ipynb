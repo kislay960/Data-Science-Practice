{
  "nbformat": 4,
  "nbformat_minor": 0,
  "metadata": {
    "colab": {
      "name": "k-means.ipynb",
      "provenance": [],
      "collapsed_sections": [],
      "authorship_tag": "ABX9TyPSGEMX2h8wscdsB/JzqTSq",
      "include_colab_link": true
    },
    "kernelspec": {
      "name": "python3",
      "display_name": "Python 3"
    }
  },
  "cells": [
    {
      "cell_type": "markdown",
      "metadata": {
        "id": "view-in-github",
        "colab_type": "text"
      },
      "source": [
        "<a href=\"https://colab.research.google.com/github/kislay960/Data-Science-Practice/blob/main/k_means.ipynb\" target=\"_parent\"><img src=\"https://colab.research.google.com/assets/colab-badge.svg\" alt=\"Open In Colab\"/></a>"
      ]
    },
    {
      "cell_type": "code",
      "metadata": {
        "id": "-oDunNgiPTCy"
      },
      "source": [
        "import numpy as np\n",
        "import matplotlib.pyplot as plt\n",
        "from sklearn.datasets import make_blobs"
      ],
      "execution_count": 1,
      "outputs": []
    },
    {
      "cell_type": "code",
      "metadata": {
        "id": "LcZ6diImPmLQ"
      },
      "source": [
        "x,y = make_blobs(n_samples= 1000, n_features= 2, centers =5, random_state=3)"
      ],
      "execution_count": 2,
      "outputs": []
    },
    {
      "cell_type": "code",
      "metadata": {
        "id": "xmbZEFmtQIYH",
        "outputId": "0dc532af-2822-4aee-88ff-ba7d961aacce",
        "colab": {
          "base_uri": "https://localhost:8080/",
          "height": 265
        }
      },
      "source": [
        "plt.scatter(x[:,0],x[:,1])\n",
        "plt.grid(True)\n",
        "plt.show()"
      ],
      "execution_count": 3,
      "outputs": [
        {
          "output_type": "display_data",
          "data": {
            "image/png": "[encoded data removed]",
            "text/plain": [
              "<Figure size 432x288 with 1 Axes>"
            ]
          },
          "metadata": {
            "tags": [],
            "needs_background": "light"
          }
        }
      ]
    },
    {
      "cell_type": "code",
      "metadata": {
        "id": "MgEAvp4qQQ_L"
      },
      "source": [
        "k = 5\n",
        "colours = ['green', 'red', 'blue', 'yellow', 'orange']\n",
        "\n",
        "clusters = {}\n",
        "for i in range(k):\n",
        "    points = []\n",
        "    center = 10*(2*np.random.random((x.shape[1],))-1)\n",
        "    cluster = {\n",
        "        'center':center,\n",
        "        'color':colours[i],\n",
        "        'points':points\n",
        "    }\n",
        "    clusters[i] = cluster"
      ],
      "execution_count": 4,
      "outputs": []
    },
    {
      "cell_type": "code",
      "metadata": {
        "id": "tJIg7kf-TGj_",
        "outputId": "888ee7d5-aaf7-4018-e20e-f2a57219ecc3",
        "colab": {
          "base_uri": "https://localhost:8080/"
        }
      },
      "source": [
        "clusters"
      ],
      "execution_count": 5,
      "outputs": [
        {
          "output_type": "execute_result",
          "data": {
            "text/plain": [
              "{0: {'center': array([-5.50417156, -2.83159531]),\n",
              "  'color': 'green',\n",
              "  'points': []},\n",
              " 1: {'center': array([-8.65057299,  8.12937973]),\n",
              "  'color': 'red',\n",
              "  'points': []},\n",
              " 2: {'center': array([-5.8778278 , -3.73085416]),\n",
              "  'color': 'blue',\n",
              "  'points': []},\n",
              " 3: {'center': array([-0.69889483, -5.35542933]),\n",
              "  'color': 'yellow',\n",
              "  'points': []},\n",
              " 4: {'center': array([9.64646581, 1.96733892]),\n",
              "  'color': 'orange',\n",
              "  'points': []}}"
            ]
          },
          "metadata": {
            "tags": []
          },
          "execution_count": 5
        }
      ]
    },
    {
      "cell_type": "code",
      "metadata": {
        "id": "0jdQr8TUTMvr"
      },
      "source": [
        "def distance(v1,v2):\n",
        "    return np.sqrt(np.sum((v1-v2)**2))"
      ],
      "execution_count": 6,
      "outputs": []
    },
    {
      "cell_type": "code",
      "metadata": {
        "id": "L4-IO6-UUHW3"
      },
      "source": [
        "def assignPointsToClusters(clusters):\n",
        "    for ix in range(x.shape[0]):\n",
        "        dist = []\n",
        "        curr_x = x[ix]\n",
        "        for kx in range(k):\n",
        "            d = distance(curr_x,clusters[kx]['center'])\n",
        "            dist.append(d)\n",
        "        current_cluster = np.argmin(dist)    \n",
        "        clusters[current_cluster]['points'].append(curr_x)"
      ],
      "execution_count": 7,
      "outputs": []
    },
    {
      "cell_type": "code",
      "metadata": {
        "id": "R1hOPXHgV6O8"
      },
      "source": [
        "assignPointsToClusters(clusters)"
      ],
      "execution_count": 11,
      "outputs": []
    },
    {
      "cell_type": "code",
      "metadata": {
        "id": "wHWWy8cCWAUo"
      },
      "source": [
        "#M-step\n",
        "def updateCluster(clusters):\n",
        "    for kx in range(k):\n",
        "        pts = np.array(clusters[kx]['points'])\n",
        "        if pts.shape[0]>0:\n",
        "            new_u = pts.mean(axis=0)\n",
        "            clusters[kx]['center'] = new_u\n",
        "            clusters[kx]['points'] = []\n",
        "\n",
        "def plotClusters(clusters):\n",
        "    for kx in range(k):\n",
        "        pts = np.array(clusters[kx]['points'])\n",
        "        try:\n",
        "            plt.scatter(pts[:,0],pts[:,1],color=clusters[kx]['color'])\n",
        "        except:\n",
        "            pass\n",
        "        uk = clusters[kx]['center']\n",
        "        plt.scatter(uk[0],uk[1],color='black',marker='*')"
      ],
      "execution_count": 41,
      "outputs": []
    },
    {
      "cell_type": "code",
      "metadata": {
        "id": "SubzTcUn1pOl",
        "outputId": "c97f94c2-e529-488e-e5fd-492969708ad4",
        "colab": {
          "base_uri": "https://localhost:8080/",
          "height": 265
        }
      },
      "source": [
        "assignPointsToClusters(clusters)\n",
        "plotClusters(clusters)\n",
        "updateCluster(clusters)"
      ],
      "execution_count": 47,
      "outputs": [
        {
          "output_type": "display_data",
          "data": {
            "image/png": "[encoded data removed]",
            "text/plain": [
              "<Figure size 432x288 with 1 Axes>"
            ]
          },
          "metadata": {
            "tags": [],
            "needs_background": "light"
          }
        }
      ]
    },
    {
      "cell_type": "code",
      "metadata": {
        "id": "koDILEPT5Ks1"
      },
      "source": [
        ""
      ],
      "execution_count": null,
      "outputs": []
    }
  ]
}