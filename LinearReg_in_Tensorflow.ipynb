{
  "nbformat": 4,
  "nbformat_minor": 0,
  "metadata": {
    "colab": {
      "name": "LinearReg in Tensorflow.ipynb",
      "provenance": [],
      "authorship_tag": "ABX9TyOTBu74hc70AxYtUqIVCz5l",
      "include_colab_link": true
    },
    "kernelspec": {
      "name": "python3",
      "display_name": "Python 3"
    }
  },
  "cells": [
    {
      "cell_type": "markdown",
      "metadata": {
        "id": "view-in-github",
        "colab_type": "text"
      },
      "source": [
        "<a href=\"https://colab.research.google.com/github/kislay960/Data-Science-Practice/blob/main/LinearReg_in_Tensorflow.ipynb\" target=\"_parent\"><img src=\"https://colab.research.google.com/assets/colab-badge.svg\" alt=\"Open In Colab\"/></a>"
      ]
    },
    {
      "cell_type": "code",
      "metadata": {
        "id": "_izKVzP5_sOQ"
      },
      "source": [
        "import numpy as np\n",
        "import tensorflow as tf\n",
        "from sklearn.datasets import load_boston\n",
        "from sklearn.model_selection import train_test_split"
      ],
      "execution_count": 1,
      "outputs": []
    },
    {
      "cell_type": "code",
      "metadata": {
        "id": "Muh5CbV6__xa"
      },
      "source": [
        "boston = load_boston()"
      ],
      "execution_count": 2,
      "outputs": []
    },
    {
      "cell_type": "code",
      "metadata": {
        "id": "r1-qKG45AB9U"
      },
      "source": [
        "features = np.array(boston.data)\n",
        "labels = np.array(boston.target)"
      ],
      "execution_count": 3,
      "outputs": []
    },
    {
      "cell_type": "code",
      "metadata": {
        "colab": {
          "base_uri": "https://localhost:8080/"
        },
        "id": "LlUzQ8VPAHd-",
        "outputId": "b1c02295-47c9-421d-f108-bd5b655c50d9"
      },
      "source": [
        "print (features.shape, labels.shape)"
      ],
      "execution_count": 4,
      "outputs": [
        {
          "output_type": "stream",
          "text": [
            "(506, 13) (506,)\n"
          ],
          "name": "stdout"
        }
      ]
    },
    {
      "cell_type": "code",
      "metadata": {
        "id": "k1VL3gtTALed"
      },
      "source": [
        "labels = np.reshape(labels, (-1,1))"
      ],
      "execution_count": 5,
      "outputs": []
    },
    {
      "cell_type": "code",
      "metadata": {
        "id": "QcNDrZ1cAQKR"
      },
      "source": [
        "def normalise(data):\n",
        "    ## ( X - mean(X) ) / std(X)\n",
        "    m = np.mean(data)\n",
        "    s = np.std(data)\n",
        "    normalised_data = (data - m)/s\n",
        "    return normalised_data"
      ],
      "execution_count": 6,
      "outputs": []
    },
    {
      "cell_type": "code",
      "metadata": {
        "id": "XUhy-Nb5AUXo"
      },
      "source": [
        "features = normalise(features)\n",
        "labels = normalise(labels)"
      ],
      "execution_count": 7,
      "outputs": []
    },
    {
      "cell_type": "code",
      "metadata": {
        "id": "a9EjyvGiAaBU"
      },
      "source": [
        "bias_feature = np.ones(shape=(features.shape[0], 1))"
      ],
      "execution_count": 8,
      "outputs": []
    },
    {
      "cell_type": "code",
      "metadata": {
        "colab": {
          "base_uri": "https://localhost:8080/"
        },
        "id": "Ea_-dFuVAdoq",
        "outputId": "47a71a54-0f6e-453a-96c6-89655ef562c8"
      },
      "source": [
        "features = np.concatenate((bias_feature, features) , axis = 1)\n",
        "print (features.shape)"
      ],
      "execution_count": 9,
      "outputs": [
        {
          "output_type": "stream",
          "text": [
            "(506, 14)\n"
          ],
          "name": "stdout"
        }
      ]
    },
    {
      "cell_type": "code",
      "metadata": {
        "id": "v5cYEUkpAh-3"
      },
      "source": [
        "X_train, X_test, Y_train, Y_test = train_test_split(features, labels, test_size = 0.2)"
      ],
      "execution_count": 10,
      "outputs": []
    },
    {
      "cell_type": "code",
      "metadata": {
        "colab": {
          "base_uri": "https://localhost:8080/"
        },
        "id": "hpKQIhmoAmJD",
        "outputId": "942f31a0-e64f-4ac6-def0-c09305f2dc08"
      },
      "source": [
        "print (X_train.shape, X_test.shape)"
      ],
      "execution_count": 11,
      "outputs": [
        {
          "output_type": "stream",
          "text": [
            "(404, 14) (102, 14)\n"
          ],
          "name": "stdout"
        }
      ]
    },
    {
      "cell_type": "markdown",
      "metadata": {
        "id": "Mx8FfTa6AqP1"
      },
      "source": [
        "##Create Model"
      ]
    },
    {
      "cell_type": "code",
      "metadata": {
        "id": "Mcf3pBb_Aopf"
      },
      "source": [
        "n_samples = features.shape[0]\n",
        "n_features = features.shape[1]\n",
        "num_epochs = 20"
      ],
      "execution_count": 12,
      "outputs": []
    },
    {
      "cell_type": "code",
      "metadata": {
        "id": "cE8tNhaOBrHw"
      },
      "source": [
        "tf.compat.v1.disable_eager_execution()"
      ],
      "execution_count": 19,
      "outputs": []
    },
    {
      "cell_type": "code",
      "metadata": {
        "id": "LS1iSNSCAvEv"
      },
      "source": [
        "X = tf.compat.v1.placeholder(dtype=tf.float32, shape=[None, n_features])\n",
        "Y = tf.compat.v1.placeholder(dtype=tf.float32, shape=[None,1])"
      ],
      "execution_count": 20,
      "outputs": []
    },
    {
      "cell_type": "code",
      "metadata": {
        "colab": {
          "base_uri": "https://localhost:8080/"
        },
        "id": "nuwMB65OAz-s",
        "outputId": "13c43a36-4623-43db-f279-fee192bd2f16"
      },
      "source": [
        "W = tf.Variable(tf.compat.v1.random_normal(shape=(n_features,1)))\n",
        "print (W)"
      ],
      "execution_count": 23,
      "outputs": [
        {
          "output_type": "stream",
          "text": [
            "<tf.Variable 'Variable:0' shape=(14, 1) dtype=float32>\n"
          ],
          "name": "stdout"
        }
      ]
    },
    {
      "cell_type": "code",
      "metadata": {
        "id": "WbDeoaSXB7Qt"
      },
      "source": [
        "y_pred = tf.compat.v1.matmul(X, W)"
      ],
      "execution_count": 24,
      "outputs": []
    },
    {
      "cell_type": "code",
      "metadata": {
        "id": "UFQJ-d02CGhh"
      },
      "source": [
        "cost = tf.compat.v1.reduce_mean(tf.square(y_pred - Y))"
      ],
      "execution_count": 25,
      "outputs": []
    },
    {
      "cell_type": "code",
      "metadata": {
        "id": "FRIkICQ0CLnx"
      },
      "source": [
        "opt = tf.compat.v1.train.GradientDescentOptimizer(learning_rate=0.01).minimize(cost)"
      ],
      "execution_count": 27,
      "outputs": []
    },
    {
      "cell_type": "code",
      "metadata": {
        "colab": {
          "base_uri": "https://localhost:8080/"
        },
        "id": "lrFKbTxfCONt",
        "outputId": "28234837-6dbe-4c58-f901-444ee9f8b9d4"
      },
      "source": [
        "with tf.compat.v1.Session() as sess:\n",
        "    ## Imp step\n",
        "    sess.run(tf.compat.v1.global_variables_initializer())\n",
        "    \n",
        "    for epoch in range(num_epochs):\n",
        "        \n",
        "        sess.run(opt, feed_dict = {\n",
        "            X: X_train,\n",
        "            Y: Y_train\n",
        "        })\n",
        "        \n",
        "        train_loss = sess.run(cost, feed_dict = {\n",
        "            X: X_train,\n",
        "            Y: Y_train\n",
        "        })\n",
        "        \n",
        "        test_loss = sess.run(cost, feed_dict = {\n",
        "            X: X_test,\n",
        "            Y: Y_test\n",
        "        })\n",
        "        \n",
        "        print (\"Epoch {}\\n\".format(epoch + 1))\n",
        "        print (\"Training loss is {:.04f} and Testing loss is {:.04f}\".format(train_loss, test_loss))\n",
        "        print (\"---------\")"
      ],
      "execution_count": 29,
      "outputs": [
        {
          "output_type": "stream",
          "text": [
            "Epoch 1\n",
            "\n",
            "Training loss is 11.0439 and Testing loss is 10.1702\n",
            "---------\n",
            "Epoch 2\n",
            "\n",
            "Training loss is 6.4322 and Testing loss is 5.8786\n",
            "---------\n",
            "Epoch 3\n",
            "\n",
            "Training loss is 3.8652 and Testing loss is 3.5421\n",
            "---------\n",
            "Epoch 4\n",
            "\n",
            "Training loss is 2.4361 and Testing loss is 2.2803\n",
            "---------\n",
            "Epoch 5\n",
            "\n",
            "Training loss is 1.6401 and Testing loss is 1.6067\n",
            "---------\n",
            "Epoch 6\n",
            "\n",
            "Training loss is 1.1965 and Testing loss is 1.2530\n",
            "---------\n",
            "Epoch 7\n",
            "\n",
            "Training loss is 0.9490 and Testing loss is 1.0720\n",
            "---------\n",
            "Epoch 8\n",
            "\n",
            "Training loss is 0.8106 and Testing loss is 0.9828\n",
            "---------\n",
            "Epoch 9\n",
            "\n",
            "Training loss is 0.7329 and Testing loss is 0.9418\n",
            "---------\n",
            "Epoch 10\n",
            "\n",
            "Training loss is 0.6891 and Testing loss is 0.9252\n",
            "---------\n",
            "Epoch 11\n",
            "\n",
            "Training loss is 0.6641 and Testing loss is 0.9207\n",
            "---------\n",
            "Epoch 12\n",
            "\n",
            "Training loss is 0.6497 and Testing loss is 0.9215\n",
            "---------\n",
            "Epoch 13\n",
            "\n",
            "Training loss is 0.6412 and Testing loss is 0.9244\n",
            "---------\n",
            "Epoch 14\n",
            "\n",
            "Training loss is 0.6359 and Testing loss is 0.9277\n",
            "---------\n",
            "Epoch 15\n",
            "\n",
            "Training loss is 0.6325 and Testing loss is 0.9308\n",
            "---------\n",
            "Epoch 16\n",
            "\n",
            "Training loss is 0.6301 and Testing loss is 0.9333\n",
            "---------\n",
            "Epoch 17\n",
            "\n",
            "Training loss is 0.6284 and Testing loss is 0.9353\n",
            "---------\n",
            "Epoch 18\n",
            "\n",
            "Training loss is 0.6270 and Testing loss is 0.9368\n",
            "---------\n",
            "Epoch 19\n",
            "\n",
            "Training loss is 0.6258 and Testing loss is 0.9378\n",
            "---------\n",
            "Epoch 20\n",
            "\n",
            "Training loss is 0.6248 and Testing loss is 0.9384\n",
            "---------\n"
          ],
          "name": "stdout"
        }
      ]
    },
    {
      "cell_type": "code",
      "metadata": {
        "id": "c_u9s7M7Cjda"
      },
      "source": [
        ""
      ],
      "execution_count": null,
      "outputs": []
    }
  ]
}