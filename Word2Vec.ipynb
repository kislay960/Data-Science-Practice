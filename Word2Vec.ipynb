{
  "nbformat": 4,
  "nbformat_minor": 0,
  "metadata": {
    "colab": {
      "name": "Word2Vec.ipynb",
      "provenance": [],
      "authorship_tag": "ABX9TyMjQ+RO+jDwcv8aqz2TSUmy",
      "include_colab_link": true
    },
    "kernelspec": {
      "name": "python3",
      "display_name": "Python 3"
    }
  },
  "cells": [
    {
      "cell_type": "markdown",
      "metadata": {
        "id": "view-in-github",
        "colab_type": "text"
      },
      "source": [
        "<a href=\"https://colab.research.google.com/github/kislay960/Data-Science-Practice/blob/main/Word2Vec.ipynb\" target=\"_parent\"><img src=\"https://colab.research.google.com/assets/colab-badge.svg\" alt=\"Open In Colab\"/></a>"
      ]
    },
    {
      "cell_type": "code",
      "metadata": {
        "id": "DK1nZZmFhIqK"
      },
      "source": [
        "import requests\n",
        "import re \n",
        "import shutil\n",
        "\n",
        "url1 = 'https://docs.google.com/uc?export=download&id=0B7XkCwpI5KDYNlNUTTlSS21pQmM'\n",
        "resp = requests.get(url1)\n",
        "code = re.findall('.*confirm=([0-9A-Za-z_]+).*', str(resp.content))\n",
        "url2 = \"https://docs.google.com/uc?export=download&confirm=%s&id=0B7XkCwpI5KDYNlNUTTlSS21pQmM\" % code[0]\n",
        "with requests.get(url2, stream=True, cookies=resp.cookies) as r:\n",
        "    with open('GoogleNews-vectors-negative300.bin.gz', 'wb') as f:\n",
        "        shutil.copyfileobj(r.raw, f)"
      ],
      "execution_count": 2,
      "outputs": []
    },
    {
      "cell_type": "code",
      "metadata": {
        "id": "9BH_XJvjibtf"
      },
      "source": [
        "import gensim\n",
        "from gensim.models import word2vec\n",
        "from gensim.models import KeyedVectors\n",
        "from sklearn.metrics.pairwise import cosine_similarity"
      ],
      "execution_count": 8,
      "outputs": []
    },
    {
      "cell_type": "markdown",
      "metadata": {
        "id": "ArxnErRnl1hr"
      },
      "source": [
        "##Odd One Out Task"
      ]
    },
    {
      "cell_type": "code",
      "metadata": {
        "id": "DQVTP_bHiDLy"
      },
      "source": [
        "word_vectors = KeyedVectors.load_word2vec_format('/content/GoogleNews-vectors-negative300.bin.gz',binary=True)"
      ],
      "execution_count": 10,
      "outputs": []
    },
    {
      "cell_type": "code",
      "metadata": {
        "id": "f-Ew7E-GiYIK"
      },
      "source": [
        "v_apple = word_vectors[\"apple\"] \n",
        "v_india = word_vectors[\"india\"]"
      ],
      "execution_count": 11,
      "outputs": []
    },
    {
      "cell_type": "code",
      "metadata": {
        "colab": {
          "base_uri": "https://localhost:8080/"
        },
        "id": "SERc_8IUjVKJ",
        "outputId": "f89e5f30-52ea-4a3d-a325-11774524ba9c"
      },
      "source": [
        "cosine_similarity([v_india],[v_apple])"
      ],
      "execution_count": 12,
      "outputs": [
        {
          "output_type": "execute_result",
          "data": {
            "text/plain": [
              "array([[0.17158596]], dtype=float32)"
            ]
          },
          "metadata": {
            "tags": []
          },
          "execution_count": 12
        }
      ]
    },
    {
      "cell_type": "code",
      "metadata": {
        "id": "M9ncRBDOksL8"
      },
      "source": [
        "import numpy as np"
      ],
      "execution_count": 16,
      "outputs": []
    },
    {
      "cell_type": "code",
      "metadata": {
        "id": "jCbg4rxZjZCP"
      },
      "source": [
        "def odd_one_out(words):\n",
        "    \"\"\"Accepts a list of words and returns the odd word\"\"\"\n",
        "    \n",
        "    # Generate all word embeddings for the given list\n",
        "    all_word_vectors = [word_vectors[w] for w in words]\n",
        "    avg_vector = np.mean(all_word_vectors,axis=0)\n",
        "    print(avg_vector.shape)\n",
        "    \n",
        "    #Iterate over every word and find similarity\n",
        "    odd_one_out = None\n",
        "    min_similarity = 1.0 #Very high value\n",
        "    \n",
        "    for w in words:\n",
        "        sim = cosine_similarity([word_vectors[w]],[avg_vector])\n",
        "        if sim < min_similarity:\n",
        "            min_similarity = sim\n",
        "            odd_one_out = w\n",
        "    \n",
        "        print(\"Similairy btw %s and avg vector is %.2f\"%(w,sim))\n",
        "            \n",
        "    return odd_one_out"
      ],
      "execution_count": 13,
      "outputs": []
    },
    {
      "cell_type": "code",
      "metadata": {
        "id": "C6O4oLnrkkMp"
      },
      "source": [
        "input_1 = [\"apple\",\"mango\",\"juice\",\"party\",\"orange\"] \n",
        "input_2 = [\"music\",\"dance\",\"sleep\",\"dancer\",\"food\"]        \n",
        "input_3  = [\"match\",\"player\",\"football\",\"cricket\",\"dancer\"]\n",
        "input_4 = [\"india\",\"paris\",\"russia\",\"france\",\"germany\"]"
      ],
      "execution_count": 14,
      "outputs": []
    },
    {
      "cell_type": "code",
      "metadata": {
        "colab": {
          "base_uri": "https://localhost:8080/",
          "height": 137
        },
        "id": "oKUgwqRnkno5",
        "outputId": "e956f125-4c0a-428d-bd7d-5d49bb820747"
      },
      "source": [
        "odd_one_out(input_1)"
      ],
      "execution_count": 17,
      "outputs": [
        {
          "output_type": "stream",
          "text": [
            "(300,)\n",
            "Similairy btw apple and avg vector is 0.78\n",
            "Similairy btw mango and avg vector is 0.76\n",
            "Similairy btw juice and avg vector is 0.71\n",
            "Similairy btw party and avg vector is 0.36\n",
            "Similairy btw orange and avg vector is 0.65\n"
          ],
          "name": "stdout"
        },
        {
          "output_type": "execute_result",
          "data": {
            "application/vnd.google.colaboratory.intrinsic+json": {
              "type": "string"
            },
            "text/plain": [
              "'party'"
            ]
          },
          "metadata": {
            "tags": []
          },
          "execution_count": 17
        }
      ]
    },
    {
      "cell_type": "code",
      "metadata": {
        "colab": {
          "base_uri": "https://localhost:8080/",
          "height": 137
        },
        "id": "ngvazTpqkqY8",
        "outputId": "58902223-5af2-4575-bfe3-1b803c703493"
      },
      "source": [
        "odd_one_out(input_2)"
      ],
      "execution_count": 18,
      "outputs": [
        {
          "output_type": "stream",
          "text": [
            "(300,)\n",
            "Similairy btw music and avg vector is 0.66\n",
            "Similairy btw dance and avg vector is 0.81\n",
            "Similairy btw sleep and avg vector is 0.51\n",
            "Similairy btw dancer and avg vector is 0.72\n",
            "Similairy btw food and avg vector is 0.52\n"
          ],
          "name": "stdout"
        },
        {
          "output_type": "execute_result",
          "data": {
            "application/vnd.google.colaboratory.intrinsic+json": {
              "type": "string"
            },
            "text/plain": [
              "'sleep'"
            ]
          },
          "metadata": {
            "tags": []
          },
          "execution_count": 18
        }
      ]
    },
    {
      "cell_type": "code",
      "metadata": {
        "colab": {
          "base_uri": "https://localhost:8080/",
          "height": 137
        },
        "id": "eUBgrlymkyzr",
        "outputId": "e329de0f-1d21-43de-eb4c-f5c90dd36bc2"
      },
      "source": [
        "odd_one_out(input_3)"
      ],
      "execution_count": 19,
      "outputs": [
        {
          "output_type": "stream",
          "text": [
            "(300,)\n",
            "Similairy btw match and avg vector is 0.58\n",
            "Similairy btw player and avg vector is 0.68\n",
            "Similairy btw football and avg vector is 0.72\n",
            "Similairy btw cricket and avg vector is 0.70\n",
            "Similairy btw dancer and avg vector is 0.53\n"
          ],
          "name": "stdout"
        },
        {
          "output_type": "execute_result",
          "data": {
            "application/vnd.google.colaboratory.intrinsic+json": {
              "type": "string"
            },
            "text/plain": [
              "'dancer'"
            ]
          },
          "metadata": {
            "tags": []
          },
          "execution_count": 19
        }
      ]
    },
    {
      "cell_type": "code",
      "metadata": {
        "colab": {
          "base_uri": "https://localhost:8080/",
          "height": 137
        },
        "id": "1Bz0GDN_k1C_",
        "outputId": "cc3e071d-0aa6-431f-dcd4-7353d6f5027b"
      },
      "source": [
        "odd_one_out(input_4)"
      ],
      "execution_count": 20,
      "outputs": [
        {
          "output_type": "stream",
          "text": [
            "(300,)\n",
            "Similairy btw india and avg vector is 0.81\n",
            "Similairy btw paris and avg vector is 0.75\n",
            "Similairy btw russia and avg vector is 0.79\n",
            "Similairy btw france and avg vector is 0.81\n",
            "Similairy btw germany and avg vector is 0.84\n"
          ],
          "name": "stdout"
        },
        {
          "output_type": "execute_result",
          "data": {
            "application/vnd.google.colaboratory.intrinsic+json": {
              "type": "string"
            },
            "text/plain": [
              "'paris'"
            ]
          },
          "metadata": {
            "tags": []
          },
          "execution_count": 20
        }
      ]
    },
    {
      "cell_type": "markdown",
      "metadata": {
        "id": "RyVSDd9Jl8sR"
      },
      "source": [
        "##Word Analogies Task\n",
        "In the word analogy task, we complete the sentence \"a is to b as c is to __\". An example is 'man is to woman as king is to queen' . In detail, we are trying to find a word d, such that the associated word vectors ea,eb,ec,ed are related in the following manner: eb−ea≈ed−ec. We will measure the similarity between eb−ea and ed−ec using cosine similarity."
      ]
    },
    {
      "cell_type": "code",
      "metadata": {
        "id": "_86AqhoHk3ey"
      },
      "source": [
        "def predict_word(a,b,c,word_vectors):\n",
        "    \"\"\"Accepts a triad of words, a,b,c and returns d such that a is to b : c is to d\"\"\"\n",
        "    a,b,c = a.lower(),b.lower(),c.lower()\n",
        "    \n",
        "    # similarity |b-a| = |d-c| should be max\n",
        "    max_similarity = -100 \n",
        "    \n",
        "    d = None\n",
        "    \n",
        "    words = word_vectors.vocab.keys()\n",
        "    \n",
        "    wa,wb,wc = word_vectors[a],word_vectors[b],word_vectors[c]\n",
        "    \n",
        "    #to find d s.t similarity(|b-a|,|d-c|) should be max\n",
        "    \n",
        "    for w in words:\n",
        "        if w in [a,b,c]:\n",
        "            continue\n",
        "        \n",
        "        wv = word_vectors[w]\n",
        "        sim = cosine_similarity([wb-wa],[wv-wc])\n",
        "        \n",
        "        if sim > max_similarity:\n",
        "            max_similarity = sim\n",
        "            d = w\n",
        "            \n",
        "    return d"
      ],
      "execution_count": 21,
      "outputs": []
    },
    {
      "cell_type": "code",
      "metadata": {
        "colab": {
          "base_uri": "https://localhost:8080/",
          "height": 35
        },
        "id": "KCKeu3QsndfB",
        "outputId": "4d4a4f4f-4edf-4c6f-c74a-ca29f7904d51"
      },
      "source": [
        "triad_2 = (\"man\",\"woman\",\"prince\")\n",
        "predict_word(*triad_2,word_vectors)"
      ],
      "execution_count": 22,
      "outputs": [
        {
          "output_type": "execute_result",
          "data": {
            "application/vnd.google.colaboratory.intrinsic+json": {
              "type": "string"
            },
            "text/plain": [
              "'princess'"
            ]
          },
          "metadata": {
            "tags": []
          },
          "execution_count": 22
        }
      ]
    },
    {
      "cell_type": "code",
      "metadata": {
        "colab": {
          "base_uri": "https://localhost:8080/"
        },
        "id": "HukqsO5DngE_",
        "outputId": "e4f10fb4-6a58-4cd2-f651-78a4f6209762"
      },
      "source": [
        "#Most similar methof of gensims does the same work\n",
        "word_vectors.most_similar(positive=['woman', 'king'], negative=['man'], topn=1)"
      ],
      "execution_count": 23,
      "outputs": [
        {
          "output_type": "stream",
          "text": [
            "/usr/local/lib/python3.6/dist-packages/gensim/matutils.py:737: FutureWarning: Conversion of the second argument of issubdtype from `int` to `np.signedinteger` is deprecated. In future, it will be treated as `np.int64 == np.dtype(int).type`.\n",
            "  if np.issubdtype(vec.dtype, np.int):\n"
          ],
          "name": "stderr"
        },
        {
          "output_type": "execute_result",
          "data": {
            "text/plain": [
              "[('queen', 0.7118192911148071)]"
            ]
          },
          "metadata": {
            "tags": []
          },
          "execution_count": 23
        }
      ]
    }
  ]
}