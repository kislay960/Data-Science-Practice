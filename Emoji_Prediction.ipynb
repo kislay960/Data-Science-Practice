{
  "nbformat": 4,
  "nbformat_minor": 0,
  "metadata": {
    "colab": {
      "name": "Emoji Prediction.ipynb",
      "provenance": [],
      "collapsed_sections": [],
      "authorship_tag": "ABX9TyN5a8OhSiB8AjMnZacnY4u3",
      "include_colab_link": true
    },
    "kernelspec": {
      "name": "python3",
      "display_name": "Python 3"
    }
  },
  "cells": [
    {
      "cell_type": "markdown",
      "metadata": {
        "id": "view-in-github",
        "colab_type": "text"
      },
      "source": [
        "<a href=\"https://colab.research.google.com/github/kislay960/Data-Science-Practice/blob/main/Emoji_Prediction.ipynb\" target=\"_parent\"><img src=\"https://colab.research.google.com/assets/colab-badge.svg\" alt=\"Open In Colab\"/></a>"
      ]
    },
    {
      "cell_type": "code",
      "metadata": {
        "colab": {
          "base_uri": "https://localhost:8080/"
        },
        "id": "5NuyqnzjH54t",
        "outputId": "2988bb99-ea5f-4fe4-b867-775a6ef3a818"
      },
      "source": [
        "#install the emoji package to display different emojis\n",
        "!pip install emoji"
      ],
      "execution_count": 179,
      "outputs": [
        {
          "output_type": "stream",
          "text": [
            "Requirement already satisfied: emoji in /usr/local/lib/python3.6/dist-packages (0.6.0)\n"
          ],
          "name": "stdout"
        }
      ]
    },
    {
      "cell_type": "code",
      "metadata": {
        "id": "saDX5xDVKG7J"
      },
      "source": [
        "import emoji"
      ],
      "execution_count": 180,
      "outputs": []
    },
    {
      "cell_type": "code",
      "metadata": {
        "id": "kqE1v4HGKPF4"
      },
      "source": [
        "#creating a dictionary for the emojis we will use\n",
        "emoji_dictionary = {\"0\": \"\\u2764\\uFE0F\",    # :heart: prints a black instead of red heart depending on the font\n",
        "                    \"1\": \":baseball:\",\n",
        "                    \"2\": \":beaming_face_with_smiling_eyes:\",\n",
        "                    \"3\": \":downcast_face_with_sweat:\",\n",
        "                    \"4\": \":fork_and_knife:\",\n",
        "                   }"
      ],
      "execution_count": 181,
      "outputs": []
    },
    {
      "cell_type": "code",
      "metadata": {
        "colab": {
          "base_uri": "https://localhost:8080/"
        },
        "id": "toGeZTIAMl-J",
        "outputId": "6605ad16-7503-483a-f933-1910a20ddff0"
      },
      "source": [
        "for e in emoji_dictionary.values():\n",
        "    print(emoji.emojize(e))"
      ],
      "execution_count": 182,
      "outputs": [
        {
          "output_type": "stream",
          "text": [
            "❤️\n",
            "⚾\n",
            "😁\n",
            "😓\n",
            "🍴\n"
          ],
          "name": "stdout"
        }
      ]
    },
    {
      "cell_type": "code",
      "metadata": {
        "id": "ktin1P26Mowu"
      },
      "source": [
        "#importing libraries required\n",
        "import numpy as np\n",
        "import pandas as pd\n",
        "\n",
        "from keras.models import Sequential\n",
        "from keras.layers import Dense, Input, Dropout, SimpleRNN,LSTM, Activation\n",
        "from keras.utils import np_utils\n",
        "\n",
        "import matplotlib.pyplot as plt"
      ],
      "execution_count": 183,
      "outputs": []
    },
    {
      "cell_type": "code",
      "metadata": {
        "id": "bQDpF26BXdvQ"
      },
      "source": [
        "#loading the dataset\n",
        "train = pd.read_csv('https://raw.githubusercontent.com/kislay960/Data-Science-Practice/main/train_emoji.csv',header=None)\n",
        "test = pd.read_csv('https://raw.githubusercontent.com/kislay960/Data-Science-Practice/main/test_emoji.csv',header=None)"
      ],
      "execution_count": 184,
      "outputs": []
    },
    {
      "cell_type": "code",
      "metadata": {
        "colab": {
          "base_uri": "https://localhost:8080/",
          "height": 204
        },
        "id": "v4KH8A3aYKOs",
        "outputId": "cfe57773-8356-45de-ab0f-9b1e3452b8dd"
      },
      "source": [
        "train.head()"
      ],
      "execution_count": 185,
      "outputs": [
        {
          "output_type": "execute_result",
          "data": {
            "text/html": [
              "<div>\n",
              "<style scoped>\n",
              "    .dataframe tbody tr th:only-of-type {\n",
              "        vertical-align: middle;\n",
              "    }\n",
              "\n",
              "    .dataframe tbody tr th {\n",
              "        vertical-align: top;\n",
              "    }\n",
              "\n",
              "    .dataframe thead th {\n",
              "        text-align: right;\n",
              "    }\n",
              "</style>\n",
              "<table border=\"1\" class=\"dataframe\">\n",
              "  <thead>\n",
              "    <tr style=\"text-align: right;\">\n",
              "      <th></th>\n",
              "      <th>0</th>\n",
              "      <th>1</th>\n",
              "      <th>2</th>\n",
              "      <th>3</th>\n",
              "    </tr>\n",
              "  </thead>\n",
              "  <tbody>\n",
              "    <tr>\n",
              "      <th>0</th>\n",
              "      <td>never talk to me again</td>\n",
              "      <td>3</td>\n",
              "      <td>NaN</td>\n",
              "      <td>NaN</td>\n",
              "    </tr>\n",
              "    <tr>\n",
              "      <th>1</th>\n",
              "      <td>I am proud of your achievements</td>\n",
              "      <td>2</td>\n",
              "      <td>NaN</td>\n",
              "      <td>NaN</td>\n",
              "    </tr>\n",
              "    <tr>\n",
              "      <th>2</th>\n",
              "      <td>It is the worst day in my life</td>\n",
              "      <td>3</td>\n",
              "      <td>NaN</td>\n",
              "      <td>NaN</td>\n",
              "    </tr>\n",
              "    <tr>\n",
              "      <th>3</th>\n",
              "      <td>Miss you so much</td>\n",
              "      <td>0</td>\n",
              "      <td>NaN</td>\n",
              "      <td>[0]</td>\n",
              "    </tr>\n",
              "    <tr>\n",
              "      <th>4</th>\n",
              "      <td>food is life</td>\n",
              "      <td>4</td>\n",
              "      <td>NaN</td>\n",
              "      <td>NaN</td>\n",
              "    </tr>\n",
              "  </tbody>\n",
              "</table>\n",
              "</div>"
            ],
            "text/plain": [
              "                                 0  1   2     3\n",
              "0           never talk to me again  3 NaN   NaN\n",
              "1  I am proud of your achievements  2 NaN   NaN\n",
              "2   It is the worst day in my life  3 NaN   NaN\n",
              "3                 Miss you so much  0 NaN   [0]\n",
              "4                     food is life  4 NaN   NaN"
            ]
          },
          "metadata": {
            "tags": []
          },
          "execution_count": 185
        }
      ]
    },
    {
      "cell_type": "code",
      "metadata": {
        "colab": {
          "base_uri": "https://localhost:8080/"
        },
        "id": "3gkkZbnkXlpQ",
        "outputId": "63e735ec-e632-46d8-e626-5d819bdaea0c"
      },
      "source": [
        "data = train.values\n",
        "for i in range(10):\n",
        "    print(data[i][0],emoji.emojize(emoji_dictionary[str(data[i][1])]))"
      ],
      "execution_count": 186,
      "outputs": [
        {
          "output_type": "stream",
          "text": [
            "never talk to me again 😓\n",
            "I am proud of your achievements 😁\n",
            "It is the worst day in my life 😓\n",
            "Miss you so much ❤️\n",
            "food is life 🍴\n",
            "I love you mum ❤️\n",
            "Stop saying bullshit 😓\n",
            "congratulations on your acceptance 😁\n",
            "The assignment is too long  😓\n",
            "I want to go play ⚾\n"
          ],
          "name": "stdout"
        }
      ]
    },
    {
      "cell_type": "code",
      "metadata": {
        "id": "Iy4B1VM7zEvf"
      },
      "source": [
        "X_train = train[0]\n",
        "Y_train = train[1]\n",
        "\n",
        "X_test = test[0]\n",
        "Y_test = test[1]"
      ],
      "execution_count": 187,
      "outputs": []
    },
    {
      "cell_type": "code",
      "metadata": {
        "colab": {
          "base_uri": "https://localhost:8080/"
        },
        "id": "e5o9no_pzZJP",
        "outputId": "bfdd9662-d554-4942-969e-3efd449d0eee"
      },
      "source": [
        "print(X_train.shape)\n",
        "print(X_test.shape)\n",
        "print(Y_train.shape)\n",
        "print(Y_test.shape)"
      ],
      "execution_count": 188,
      "outputs": [
        {
          "output_type": "stream",
          "text": [
            "(132,)\n",
            "(56,)\n",
            "(132,)\n",
            "(56,)\n"
          ],
          "name": "stdout"
        }
      ]
    },
    {
      "cell_type": "code",
      "metadata": {
        "colab": {
          "base_uri": "https://localhost:8080/"
        },
        "id": "4oCXy3Vfzjwr",
        "outputId": "a6df03cd-b8c5-4584-b6ce-3ad969e0a38f"
      },
      "source": [
        "# Splitting the train data from sentences to words\n",
        "for ix in range(X_train.shape[0]):\n",
        "    X_train[ix] = X_train[ix].split()\n",
        "\n",
        "# Splitting the test data from sentences to words\n",
        "for ix in range(X_test.shape[0]):\n",
        "    X_test[ix] = X_test[ix].split()\n",
        "    \n",
        "# Converting labels into categorical form\n",
        "Y_train = np_utils.to_categorical(Y_train)"
      ],
      "execution_count": 189,
      "outputs": [
        {
          "output_type": "stream",
          "text": [
            "/usr/local/lib/python3.6/dist-packages/ipykernel_launcher.py:3: SettingWithCopyWarning: \n",
            "A value is trying to be set on a copy of a slice from a DataFrame\n",
            "\n",
            "See the caveats in the documentation: https://pandas.pydata.org/pandas-docs/stable/user_guide/indexing.html#returning-a-view-versus-a-copy\n",
            "  This is separate from the ipykernel package so we can avoid doing imports until\n",
            "/usr/local/lib/python3.6/dist-packages/ipykernel_launcher.py:7: SettingWithCopyWarning: \n",
            "A value is trying to be set on a copy of a slice from a DataFrame\n",
            "\n",
            "See the caveats in the documentation: https://pandas.pydata.org/pandas-docs/stable/user_guide/indexing.html#returning-a-view-versus-a-copy\n",
            "  import sys\n"
          ],
          "name": "stderr"
        }
      ]
    },
    {
      "cell_type": "code",
      "metadata": {
        "id": "fP8ILvPHzpXq"
      },
      "source": [
        "# Creating  embeddings dictionary with key = word and value = list of words in glove vector\n",
        "embeddings_index = {}\n",
        "\n",
        "f = open('/content/glove.6B.50d.txt')\n",
        "for line in f:\n",
        "    values = line.split()\n",
        "    word = values[0]\n",
        "    coefs = np.asarray(values[1:], dtype='float32')\n",
        "    embeddings_index[word] = coefs\n",
        "f.close()"
      ],
      "execution_count": 190,
      "outputs": []
    },
    {
      "cell_type": "code",
      "metadata": {
        "id": "zH5dl6vg0Gsj"
      },
      "source": [
        "# Filling the embedding matrix\n",
        "embedding_matrix_train = np.zeros((X_train.shape[0], 10, 50))\n",
        "embedding_matrix_test = np.zeros((X_test.shape[0], 10, 50))\n",
        "\n",
        "for ix in range(X_train.shape[0]):\n",
        "    for ij in range(len(X_train[ix])):\n",
        "        embedding_matrix_train[ix][ij] = embeddings_index[X_train[ix][ij].lower()]\n",
        "        \n",
        "for ix in range(X_test.shape[0]):\n",
        "    for ij in range(len(X_test[ix])):\n",
        "        embedding_matrix_test[ix][ij] = embeddings_index[X_test[ix][ij].lower()]"
      ],
      "execution_count": 191,
      "outputs": []
    },
    {
      "cell_type": "code",
      "metadata": {
        "colab": {
          "base_uri": "https://localhost:8080/"
        },
        "id": "bH5i9Aqe0QN4",
        "outputId": "3e393a28-46bc-4360-b7f8-bbf47b450eca"
      },
      "source": [
        "print (embedding_matrix_train.shape, embedding_matrix_test.shape)"
      ],
      "execution_count": 192,
      "outputs": [
        {
          "output_type": "stream",
          "text": [
            "(132, 10, 50) (56, 10, 50)\n"
          ],
          "name": "stdout"
        }
      ]
    },
    {
      "cell_type": "code",
      "metadata": {
        "colab": {
          "base_uri": "https://localhost:8080/"
        },
        "id": "TEcJuI0m0SZg",
        "outputId": "13d79fa8-8fce-4098-8184-04740212ab84"
      },
      "source": [
        "# A simple RNN and LSTM network to classify the emoji class from an input Sentence\n",
        "\n",
        "model = Sequential()\n",
        "model.add(SimpleRNN(64, input_shape=(10,50), return_sequences=True))\n",
        "model.add(Dropout(0.5))\n",
        "model.add(LSTM(64,input_shape=(10,50)))\n",
        "model.add(Dropout(0.5))\n",
        "model.add(Dense(5))\n",
        "model.add(Activation('softmax'))\n",
        "\n",
        "model.summary()"
      ],
      "execution_count": 231,
      "outputs": [
        {
          "output_type": "stream",
          "text": [
            "Model: \"sequential_17\"\n",
            "_________________________________________________________________\n",
            "Layer (type)                 Output Shape              Param #   \n",
            "=================================================================\n",
            "simple_rnn_14 (SimpleRNN)    (None, 10, 64)            7360      \n",
            "_________________________________________________________________\n",
            "dropout_32 (Dropout)         (None, 10, 64)            0         \n",
            "_________________________________________________________________\n",
            "lstm_18 (LSTM)               (None, 64)                33024     \n",
            "_________________________________________________________________\n",
            "dropout_33 (Dropout)         (None, 64)                0         \n",
            "_________________________________________________________________\n",
            "dense_17 (Dense)             (None, 5)                 325       \n",
            "_________________________________________________________________\n",
            "activation_17 (Activation)   (None, 5)                 0         \n",
            "=================================================================\n",
            "Total params: 40,709\n",
            "Trainable params: 40,709\n",
            "Non-trainable params: 0\n",
            "_________________________________________________________________\n"
          ],
          "name": "stdout"
        }
      ]
    },
    {
      "cell_type": "code",
      "metadata": {
        "id": "zN7x3rwp0VKX"
      },
      "source": [
        "# Setting Loss and Optimiser\n",
        "model.compile(loss='categorical_crossentropy', optimizer='adam', metrics=['accuracy'])"
      ],
      "execution_count": 232,
      "outputs": []
    },
    {
      "cell_type": "code",
      "metadata": {
        "colab": {
          "base_uri": "https://localhost:8080/"
        },
        "id": "JXXGQfXI0Yc4",
        "outputId": "46abcfcc-94bf-4c7b-e3ac-307641b51703"
      },
      "source": [
        "# Training the model and Setting hyperparameters\n",
        "hist = model.fit(embedding_matrix_train,Y_train,epochs=100, batch_size=64,shuffle=True)"
      ],
      "execution_count": 233,
      "outputs": [
        {
          "output_type": "stream",
          "text": [
            "Epoch 1/100\n",
            "3/3 [==============================] - 0s 7ms/step - loss: 1.6332 - accuracy: 0.1591\n",
            "Epoch 2/100\n",
            "3/3 [==============================] - 0s 7ms/step - loss: 1.5774 - accuracy: 0.2803\n",
            "Epoch 3/100\n",
            "3/3 [==============================] - 0s 8ms/step - loss: 1.5823 - accuracy: 0.2500\n",
            "Epoch 4/100\n",
            "3/3 [==============================] - 0s 7ms/step - loss: 1.5237 - accuracy: 0.3106\n",
            "Epoch 5/100\n",
            "3/3 [==============================] - 0s 7ms/step - loss: 1.5079 - accuracy: 0.3333\n",
            "Epoch 6/100\n",
            "3/3 [==============================] - 0s 8ms/step - loss: 1.4815 - accuracy: 0.3485\n",
            "Epoch 7/100\n",
            "3/3 [==============================] - 0s 8ms/step - loss: 1.4869 - accuracy: 0.2879\n",
            "Epoch 8/100\n",
            "3/3 [==============================] - 0s 7ms/step - loss: 1.4600 - accuracy: 0.3939\n",
            "Epoch 9/100\n",
            "3/3 [==============================] - 0s 7ms/step - loss: 1.4678 - accuracy: 0.3561\n",
            "Epoch 10/100\n",
            "3/3 [==============================] - 0s 7ms/step - loss: 1.4456 - accuracy: 0.3409\n",
            "Epoch 11/100\n",
            "3/3 [==============================] - 0s 7ms/step - loss: 1.3806 - accuracy: 0.4015\n",
            "Epoch 12/100\n",
            "3/3 [==============================] - 0s 9ms/step - loss: 1.3673 - accuracy: 0.4773\n",
            "Epoch 13/100\n",
            "3/3 [==============================] - 0s 7ms/step - loss: 1.3028 - accuracy: 0.5076\n",
            "Epoch 14/100\n",
            "3/3 [==============================] - 0s 7ms/step - loss: 1.2690 - accuracy: 0.5227\n",
            "Epoch 15/100\n",
            "3/3 [==============================] - 0s 7ms/step - loss: 1.2180 - accuracy: 0.5076\n",
            "Epoch 16/100\n",
            "3/3 [==============================] - 0s 7ms/step - loss: 1.2601 - accuracy: 0.4848\n",
            "Epoch 17/100\n",
            "3/3 [==============================] - 0s 8ms/step - loss: 1.1566 - accuracy: 0.5455\n",
            "Epoch 18/100\n",
            "3/3 [==============================] - 0s 7ms/step - loss: 1.1208 - accuracy: 0.4924\n",
            "Epoch 19/100\n",
            "3/3 [==============================] - 0s 7ms/step - loss: 1.0998 - accuracy: 0.5909\n",
            "Epoch 20/100\n",
            "3/3 [==============================] - 0s 7ms/step - loss: 1.0852 - accuracy: 0.5455\n",
            "Epoch 21/100\n",
            "3/3 [==============================] - 0s 8ms/step - loss: 1.0717 - accuracy: 0.6136\n",
            "Epoch 22/100\n",
            "3/3 [==============================] - 0s 7ms/step - loss: 1.0133 - accuracy: 0.5833\n",
            "Epoch 23/100\n",
            "3/3 [==============================] - 0s 7ms/step - loss: 0.9900 - accuracy: 0.6136\n",
            "Epoch 24/100\n",
            "3/3 [==============================] - 0s 8ms/step - loss: 0.9735 - accuracy: 0.6061\n",
            "Epoch 25/100\n",
            "3/3 [==============================] - 0s 8ms/step - loss: 0.9242 - accuracy: 0.6667\n",
            "Epoch 26/100\n",
            "3/3 [==============================] - 0s 7ms/step - loss: 0.8620 - accuracy: 0.6894\n",
            "Epoch 27/100\n",
            "3/3 [==============================] - 0s 7ms/step - loss: 0.8717 - accuracy: 0.7273\n",
            "Epoch 28/100\n",
            "3/3 [==============================] - 0s 7ms/step - loss: 0.8629 - accuracy: 0.6818\n",
            "Epoch 29/100\n",
            "3/3 [==============================] - 0s 7ms/step - loss: 0.8140 - accuracy: 0.7576\n",
            "Epoch 30/100\n",
            "3/3 [==============================] - 0s 7ms/step - loss: 0.8383 - accuracy: 0.6288\n",
            "Epoch 31/100\n",
            "3/3 [==============================] - 0s 7ms/step - loss: 0.7949 - accuracy: 0.6970\n",
            "Epoch 32/100\n",
            "3/3 [==============================] - 0s 7ms/step - loss: 0.7468 - accuracy: 0.7121\n",
            "Epoch 33/100\n",
            "3/3 [==============================] - 0s 7ms/step - loss: 0.7668 - accuracy: 0.7045\n",
            "Epoch 34/100\n",
            "3/3 [==============================] - 0s 7ms/step - loss: 0.6927 - accuracy: 0.7424\n",
            "Epoch 35/100\n",
            "3/3 [==============================] - 0s 7ms/step - loss: 0.6989 - accuracy: 0.7197\n",
            "Epoch 36/100\n",
            "3/3 [==============================] - 0s 7ms/step - loss: 0.6650 - accuracy: 0.7955\n",
            "Epoch 37/100\n",
            "3/3 [==============================] - 0s 7ms/step - loss: 0.6906 - accuracy: 0.6818\n",
            "Epoch 38/100\n",
            "3/3 [==============================] - 0s 7ms/step - loss: 0.6784 - accuracy: 0.7197\n",
            "Epoch 39/100\n",
            "3/3 [==============================] - 0s 7ms/step - loss: 0.6370 - accuracy: 0.7500\n",
            "Epoch 40/100\n",
            "3/3 [==============================] - 0s 7ms/step - loss: 0.6581 - accuracy: 0.7879\n",
            "Epoch 41/100\n",
            "3/3 [==============================] - 0s 8ms/step - loss: 0.6272 - accuracy: 0.7424\n",
            "Epoch 42/100\n",
            "3/3 [==============================] - 0s 7ms/step - loss: 0.5609 - accuracy: 0.8182\n",
            "Epoch 43/100\n",
            "3/3 [==============================] - 0s 7ms/step - loss: 0.6191 - accuracy: 0.7727\n",
            "Epoch 44/100\n",
            "3/3 [==============================] - 0s 7ms/step - loss: 0.5841 - accuracy: 0.8182\n",
            "Epoch 45/100\n",
            "3/3 [==============================] - 0s 7ms/step - loss: 0.5147 - accuracy: 0.8333\n",
            "Epoch 46/100\n",
            "3/3 [==============================] - 0s 9ms/step - loss: 0.5155 - accuracy: 0.8182\n",
            "Epoch 47/100\n",
            "3/3 [==============================] - 0s 7ms/step - loss: 0.5180 - accuracy: 0.7879\n",
            "Epoch 48/100\n",
            "3/3 [==============================] - 0s 7ms/step - loss: 0.4172 - accuracy: 0.8788\n",
            "Epoch 49/100\n",
            "3/3 [==============================] - 0s 9ms/step - loss: 0.4676 - accuracy: 0.8561\n",
            "Epoch 50/100\n",
            "3/3 [==============================] - 0s 7ms/step - loss: 0.4267 - accuracy: 0.8561\n",
            "Epoch 51/100\n",
            "3/3 [==============================] - 0s 7ms/step - loss: 0.4601 - accuracy: 0.8030\n",
            "Epoch 52/100\n",
            "3/3 [==============================] - 0s 7ms/step - loss: 0.3873 - accuracy: 0.9015\n",
            "Epoch 53/100\n",
            "3/3 [==============================] - 0s 7ms/step - loss: 0.3846 - accuracy: 0.8712\n",
            "Epoch 54/100\n",
            "3/3 [==============================] - 0s 7ms/step - loss: 0.4076 - accuracy: 0.8485\n",
            "Epoch 55/100\n",
            "3/3 [==============================] - 0s 8ms/step - loss: 0.3987 - accuracy: 0.8258\n",
            "Epoch 56/100\n",
            "3/3 [==============================] - 0s 7ms/step - loss: 0.3569 - accuracy: 0.8712\n",
            "Epoch 57/100\n",
            "3/3 [==============================] - 0s 7ms/step - loss: 0.3379 - accuracy: 0.8636\n",
            "Epoch 58/100\n",
            "3/3 [==============================] - 0s 7ms/step - loss: 0.2710 - accuracy: 0.9545\n",
            "Epoch 59/100\n",
            "3/3 [==============================] - 0s 8ms/step - loss: 0.2916 - accuracy: 0.9167\n",
            "Epoch 60/100\n",
            "3/3 [==============================] - 0s 8ms/step - loss: 0.2488 - accuracy: 0.9318\n",
            "Epoch 61/100\n",
            "3/3 [==============================] - 0s 7ms/step - loss: 0.2600 - accuracy: 0.9242\n",
            "Epoch 62/100\n",
            "3/3 [==============================] - 0s 8ms/step - loss: 0.2329 - accuracy: 0.9394\n",
            "Epoch 63/100\n",
            "3/3 [==============================] - 0s 7ms/step - loss: 0.2298 - accuracy: 0.9318\n",
            "Epoch 64/100\n",
            "3/3 [==============================] - 0s 7ms/step - loss: 0.2098 - accuracy: 0.9318\n",
            "Epoch 65/100\n",
            "3/3 [==============================] - 0s 7ms/step - loss: 0.2410 - accuracy: 0.9242\n",
            "Epoch 66/100\n",
            "3/3 [==============================] - 0s 7ms/step - loss: 0.2318 - accuracy: 0.9318\n",
            "Epoch 67/100\n",
            "3/3 [==============================] - 0s 7ms/step - loss: 0.1940 - accuracy: 0.9621\n",
            "Epoch 68/100\n",
            "3/3 [==============================] - 0s 7ms/step - loss: 0.1654 - accuracy: 0.9621\n",
            "Epoch 69/100\n",
            "3/3 [==============================] - 0s 7ms/step - loss: 0.2197 - accuracy: 0.9394\n",
            "Epoch 70/100\n",
            "3/3 [==============================] - 0s 7ms/step - loss: 0.1772 - accuracy: 0.9545\n",
            "Epoch 71/100\n",
            "3/3 [==============================] - 0s 7ms/step - loss: 0.1583 - accuracy: 0.9773\n",
            "Epoch 72/100\n",
            "3/3 [==============================] - 0s 7ms/step - loss: 0.1803 - accuracy: 0.9545\n",
            "Epoch 73/100\n",
            "3/3 [==============================] - 0s 8ms/step - loss: 0.1737 - accuracy: 0.9545\n",
            "Epoch 74/100\n",
            "3/3 [==============================] - 0s 8ms/step - loss: 0.1217 - accuracy: 0.9848\n",
            "Epoch 75/100\n",
            "3/3 [==============================] - 0s 7ms/step - loss: 0.1332 - accuracy: 0.9773\n",
            "Epoch 76/100\n",
            "3/3 [==============================] - 0s 8ms/step - loss: 0.1838 - accuracy: 0.9697\n",
            "Epoch 77/100\n",
            "3/3 [==============================] - 0s 7ms/step - loss: 0.1307 - accuracy: 0.9848\n",
            "Epoch 78/100\n",
            "3/3 [==============================] - 0s 7ms/step - loss: 0.1661 - accuracy: 0.9545\n",
            "Epoch 79/100\n",
            "3/3 [==============================] - 0s 7ms/step - loss: 0.1560 - accuracy: 0.9394\n",
            "Epoch 80/100\n",
            "3/3 [==============================] - 0s 7ms/step - loss: 0.0947 - accuracy: 0.9924\n",
            "Epoch 81/100\n",
            "3/3 [==============================] - 0s 7ms/step - loss: 0.1188 - accuracy: 0.9848\n",
            "Epoch 82/100\n",
            "3/3 [==============================] - 0s 7ms/step - loss: 0.1048 - accuracy: 0.9773\n",
            "Epoch 83/100\n",
            "3/3 [==============================] - 0s 7ms/step - loss: 0.0795 - accuracy: 0.9924\n",
            "Epoch 84/100\n",
            "3/3 [==============================] - 0s 8ms/step - loss: 0.0828 - accuracy: 1.0000\n",
            "Epoch 85/100\n",
            "3/3 [==============================] - 0s 8ms/step - loss: 0.0780 - accuracy: 0.9848\n",
            "Epoch 86/100\n",
            "3/3 [==============================] - 0s 8ms/step - loss: 0.0599 - accuracy: 1.0000\n",
            "Epoch 87/100\n",
            "3/3 [==============================] - 0s 7ms/step - loss: 0.0648 - accuracy: 0.9924\n",
            "Epoch 88/100\n",
            "3/3 [==============================] - 0s 8ms/step - loss: 0.0598 - accuracy: 0.9924\n",
            "Epoch 89/100\n",
            "3/3 [==============================] - 0s 7ms/step - loss: 0.0656 - accuracy: 0.9848\n",
            "Epoch 90/100\n",
            "3/3 [==============================] - 0s 7ms/step - loss: 0.0462 - accuracy: 1.0000\n",
            "Epoch 91/100\n",
            "3/3 [==============================] - 0s 8ms/step - loss: 0.0521 - accuracy: 1.0000\n",
            "Epoch 92/100\n",
            "3/3 [==============================] - 0s 7ms/step - loss: 0.0499 - accuracy: 0.9924\n",
            "Epoch 93/100\n",
            "3/3 [==============================] - 0s 7ms/step - loss: 0.0476 - accuracy: 1.0000\n",
            "Epoch 94/100\n",
            "3/3 [==============================] - 0s 7ms/step - loss: 0.0466 - accuracy: 1.0000\n",
            "Epoch 95/100\n",
            "3/3 [==============================] - 0s 8ms/step - loss: 0.0405 - accuracy: 1.0000\n",
            "Epoch 96/100\n",
            "3/3 [==============================] - 0s 10ms/step - loss: 0.0455 - accuracy: 0.9924\n",
            "Epoch 97/100\n",
            "3/3 [==============================] - 0s 8ms/step - loss: 0.0362 - accuracy: 0.9924\n",
            "Epoch 98/100\n",
            "3/3 [==============================] - 0s 7ms/step - loss: 0.0357 - accuracy: 1.0000\n",
            "Epoch 99/100\n",
            "3/3 [==============================] - 0s 8ms/step - loss: 0.0362 - accuracy: 0.9924\n",
            "Epoch 100/100\n",
            "3/3 [==============================] - 0s 8ms/step - loss: 0.0331 - accuracy: 0.9924\n"
          ],
          "name": "stdout"
        }
      ]
    },
    {
      "cell_type": "code",
      "metadata": {
        "id": "jRf-AhnI0eCV"
      },
      "source": [
        "#predicting values for test data\n",
        "pred = model.predict_classes(embedding_matrix_test)"
      ],
      "execution_count": 235,
      "outputs": []
    },
    {
      "cell_type": "code",
      "metadata": {
        "colab": {
          "base_uri": "https://localhost:8080/"
        },
        "id": "m5TSts0U0k85",
        "outputId": "e2915219-415e-4543-9fff-e071d5c5c669"
      },
      "source": [
        "pred"
      ],
      "execution_count": 236,
      "outputs": [
        {
          "output_type": "execute_result",
          "data": {
            "text/plain": [
              "array([4, 3, 2, 0, 2, 0, 1, 0, 4, 2, 1, 2, 0, 3, 1, 3, 2, 0, 1, 4, 0, 0,\n",
              "       4, 0, 3, 1, 2, 0, 4, 4, 0, 1, 3, 2, 0, 3, 2, 4, 4, 2, 1, 0, 0, 1,\n",
              "       2, 0, 2, 2, 3, 1, 3, 0, 3, 2, 2, 0])"
            ]
          },
          "metadata": {
            "tags": []
          },
          "execution_count": 236
        }
      ]
    },
    {
      "cell_type": "code",
      "metadata": {
        "colab": {
          "base_uri": "https://localhost:8080/"
        },
        "id": "Z18H3m0n0l8Z",
        "outputId": "8a38b77f-4f7b-4f59-db1a-d9ebc600882e"
      },
      "source": [
        "# Calculating the accuracy of the algorithm\n",
        "float(sum(pred==Y_test))/embedding_matrix_test.shape[0]"
      ],
      "execution_count": 237,
      "outputs": [
        {
          "output_type": "execute_result",
          "data": {
            "text/plain": [
              "0.6607142857142857"
            ]
          },
          "metadata": {
            "tags": []
          },
          "execution_count": 237
        }
      ]
    },
    {
      "cell_type": "code",
      "metadata": {
        "colab": {
          "base_uri": "https://localhost:8080/"
        },
        "id": "XNMmh88N0p08",
        "outputId": "3f63dbce-5b12-468e-934b-c10f4635178f"
      },
      "source": [
        "for i in range(30):\n",
        "    print(' '.join(X_test[i]))\n",
        "    print('Predicted emoji : ' + emoji.emojize(emoji_dictionary[str(pred[i])]) + '\\n')"
      ],
      "execution_count": 238,
      "outputs": [
        {
          "output_type": "stream",
          "text": [
            "I want to eat\n",
            "Predicted emoji : 🍴\n",
            "\n",
            "he did not answer\n",
            "Predicted emoji : 😓\n",
            "\n",
            "he got a raise\n",
            "Predicted emoji : 😁\n",
            "\n",
            "she got me a present\n",
            "Predicted emoji : ❤️\n",
            "\n",
            "ha ha ha it was so funny\n",
            "Predicted emoji : 😁\n",
            "\n",
            "he is a good friend\n",
            "Predicted emoji : ❤️\n",
            "\n",
            "I am upset\n",
            "Predicted emoji : ⚾\n",
            "\n",
            "We had such a lovely dinner tonight\n",
            "Predicted emoji : ❤️\n",
            "\n",
            "where is the food\n",
            "Predicted emoji : 🍴\n",
            "\n",
            "Stop making this joke ha ha ha\n",
            "Predicted emoji : 😁\n",
            "\n",
            "where is the ball\n",
            "Predicted emoji : ⚾\n",
            "\n",
            "work is hard\n",
            "Predicted emoji : 😁\n",
            "\n",
            "This girl is messing with me\n",
            "Predicted emoji : ❤️\n",
            "\n",
            "are you serious ha ha\n",
            "Predicted emoji : 😓\n",
            "\n",
            "Let us go play baseball\n",
            "Predicted emoji : ⚾\n",
            "\n",
            "This stupid grader is not working\n",
            "Predicted emoji : 😓\n",
            "\n",
            "work is horrible\n",
            "Predicted emoji : 😁\n",
            "\n",
            "Congratulation for having a baby\n",
            "Predicted emoji : ❤️\n",
            "\n",
            "stop messing around\n",
            "Predicted emoji : ⚾\n",
            "\n",
            "any suggestions for dinner\n",
            "Predicted emoji : 🍴\n",
            "\n",
            "I love taking breaks\n",
            "Predicted emoji : ❤️\n",
            "\n",
            "you brighten my day\n",
            "Predicted emoji : ❤️\n",
            "\n",
            "I boiled rice\n",
            "Predicted emoji : 🍴\n",
            "\n",
            "she is a bully\n",
            "Predicted emoji : ❤️\n",
            "\n",
            "Why are you feeling bad\n",
            "Predicted emoji : 😓\n",
            "\n",
            "I am upset\n",
            "Predicted emoji : ⚾\n",
            "\n",
            "I worked during my birthday\n",
            "Predicted emoji : 😁\n",
            "\n",
            "My grandmother is the love of my life\n",
            "Predicted emoji : ❤️\n",
            "\n",
            "enjoy your break\n",
            "Predicted emoji : 🍴\n",
            "\n",
            "valentine day is near\n",
            "Predicted emoji : 🍴\n",
            "\n"
          ],
          "name": "stdout"
        }
      ]
    },
    {
      "cell_type": "code",
      "metadata": {
        "id": "XCjQyEkP0zQk"
      },
      "source": [
        ""
      ],
      "execution_count": 199,
      "outputs": []
    }
  ]
}